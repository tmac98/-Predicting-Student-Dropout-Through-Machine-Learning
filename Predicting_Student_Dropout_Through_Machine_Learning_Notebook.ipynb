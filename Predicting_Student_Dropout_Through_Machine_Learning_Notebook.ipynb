{
  "nbformat": 4,
  "nbformat_minor": 0,
  "metadata": {
    "colab": {
      "provenance": []
    },
    "kernelspec": {
      "name": "python3",
      "display_name": "Python 3"
    },
    "language_info": {
      "name": "python"
    }
  },
  "cells": [
    {
      "cell_type": "markdown",
      "source": [
        "# Predicting Student Dropout Through Machine Learning\n"
      ],
      "metadata": {
        "id": "fBJktDC4XVdC"
      }
    },
    {
      "cell_type": "markdown",
      "source": [
        "## Table of Contents\n",
        "[1. Project Overview](#1-project-overview)\n",
        "\n",
        "[2. Installing and Importing Libraries](#2-installing-and-importing-libraries)\n",
        "[3. Data Preparation](#3-data-preparation)\n",
        "- [3.1 Loading and Inspecting the Data](#31-loading-and-inspecting-the-data)\n",
        "- [3.2 Handling Missing Data](#32-handling-missing-data)\n",
        "- [3.3 Feature Selection and Engineering](#33-feature-selection-and-engineering)\n",
        "- [3.4 Train-Test Split and Scaling](#34-train-test-split-and-scaling)\n",
        "\n",
        "[4. XGBoost Model Development and Optimisation](#4-xgboost-model-development-and-optimisation)\n",
        "- [4.1 Baseline XGBoost Model (Without Attendance Data)](#41-baseline-xgboost-model-without-attendance-data)\n",
        "- [4.2 Hyperparameter Tuning for XGBoost Model](#42-hyperparameter-tuning-for-xgboost-model)\n",
        "- [4.3 Optimised XGBoost Model](#43-optimised-xgboost-model)\n",
        "\n",
        "[5. Neural Network Model Development and Optimisation](#5-neural-network-model-development-and-optimisation)\n",
        "- [5.1 Baseline Neural Network Model (Without Attendance Data)](#51-baseline-neural-network-model-without-attendance-data)\n",
        "- [5.2 Neural Network Hyperparameter Tuning](#52-neural-network-hyperparameter-tuning)\n",
        "- [5.3 Optimised Neural Network](#53-optimised-neural-network)\n",
        "\n",
        "[6. Final Model Comparison](#6-final-model-comparison)\n",
        "\n",
        "[7. Conclusion](#7-conclusion)\n",
        "- [7.1 Key Takeaways](#71-key-takeaways)\n",
        "- [7.2 Next Steps](#72-next-steps)\n",
        "\n",
        "\n"
      ],
      "metadata": {
        "id": "aKyVAQCod0vo"
      }
    },
    {
      "cell_type": "markdown",
      "source": [
        "## 1. Project Overview"
      ],
      "metadata": {
        "id": "Bu0A-uNFjx2p"
      }
    },
    {
      "cell_type": "markdown",
      "source": [
        "In this project, we develop a predictive model to classify student dropouts using supervised learning. We explore the impact of various student attributes—academic performance, demographic factors, and attendance data—on dropout likelihood. The goal is to identify at-risk students early and provide actionable insights for intervention."
      ],
      "metadata": {
        "id": "Gl9vVDgPj2Go"
      }
    },
    {
      "cell_type": "markdown",
      "source": [
        "## 2. Installing and Importing Libraries"
      ],
      "metadata": {
        "id": "spjawFCb0hvu"
      }
    },
    {
      "cell_type": "code",
      "source": [
        "# Install Keras Tuner\n",
        "!pip install keras-tuner\n"
      ],
      "metadata": {
        "colab": {
          "base_uri": "https://localhost:8080/"
        },
        "id": "g7V2K2ak_OIg",
        "outputId": "c8b6a79c-4adb-497d-8fd7-77cc59e16458"
      },
      "execution_count": null,
      "outputs": [
        {
          "output_type": "stream",
          "name": "stdout",
          "text": [
            "Requirement already satisfied: keras-tuner in /usr/local/lib/python3.10/dist-packages (1.4.7)\n",
            "Requirement already satisfied: keras in /usr/local/lib/python3.10/dist-packages (from keras-tuner) (3.5.0)\n",
            "Requirement already satisfied: packaging in /usr/local/lib/python3.10/dist-packages (from keras-tuner) (24.2)\n",
            "Requirement already satisfied: requests in /usr/local/lib/python3.10/dist-packages (from keras-tuner) (2.32.3)\n",
            "Requirement already satisfied: kt-legacy in /usr/local/lib/python3.10/dist-packages (from keras-tuner) (1.0.5)\n",
            "Requirement already satisfied: absl-py in /usr/local/lib/python3.10/dist-packages (from keras->keras-tuner) (1.4.0)\n",
            "Requirement already satisfied: numpy in /usr/local/lib/python3.10/dist-packages (from keras->keras-tuner) (1.26.4)\n",
            "Requirement already satisfied: rich in /usr/local/lib/python3.10/dist-packages (from keras->keras-tuner) (13.9.4)\n",
            "Requirement already satisfied: namex in /usr/local/lib/python3.10/dist-packages (from keras->keras-tuner) (0.0.8)\n",
            "Requirement already satisfied: h5py in /usr/local/lib/python3.10/dist-packages (from keras->keras-tuner) (3.12.1)\n",
            "Requirement already satisfied: optree in /usr/local/lib/python3.10/dist-packages (from keras->keras-tuner) (0.13.1)\n",
            "Requirement already satisfied: ml-dtypes in /usr/local/lib/python3.10/dist-packages (from keras->keras-tuner) (0.4.1)\n",
            "Requirement already satisfied: charset-normalizer<4,>=2 in /usr/local/lib/python3.10/dist-packages (from requests->keras-tuner) (3.4.0)\n",
            "Requirement already satisfied: idna<4,>=2.5 in /usr/local/lib/python3.10/dist-packages (from requests->keras-tuner) (3.10)\n",
            "Requirement already satisfied: urllib3<3,>=1.21.1 in /usr/local/lib/python3.10/dist-packages (from requests->keras-tuner) (2.2.3)\n",
            "Requirement already satisfied: certifi>=2017.4.17 in /usr/local/lib/python3.10/dist-packages (from requests->keras-tuner) (2024.8.30)\n",
            "Requirement already satisfied: typing-extensions>=4.5.0 in /usr/local/lib/python3.10/dist-packages (from optree->keras->keras-tuner) (4.12.2)\n",
            "Requirement already satisfied: markdown-it-py>=2.2.0 in /usr/local/lib/python3.10/dist-packages (from rich->keras->keras-tuner) (3.0.0)\n",
            "Requirement already satisfied: pygments<3.0.0,>=2.13.0 in /usr/local/lib/python3.10/dist-packages (from rich->keras->keras-tuner) (2.18.0)\n",
            "Requirement already satisfied: mdurl~=0.1 in /usr/local/lib/python3.10/dist-packages (from markdown-it-py>=2.2.0->rich->keras->keras-tuner) (0.1.2)\n"
          ]
        }
      ]
    },
    {
      "cell_type": "code",
      "source": [
        "# Importing necessary libraries for data manipulation, visualization, and model building\n",
        "import pandas as pd\n",
        "import numpy as np\n",
        "import matplotlib.pyplot as plt\n",
        "import seaborn as sns\n",
        "from sklearn.model_selection import train_test_split\n",
        "from sklearn.preprocessing import StandardScaler, OneHotEncoder\n",
        "from sklearn.compose import ColumnTransformer\n",
        "from sklearn.pipeline import Pipeline\n",
        "from sklearn.metrics import accuracy_score, confusion_matrix, precision_score, recall_score, roc_auc_score\n",
        "import xgboost as xgb\n",
        "from sklearn.model_selection import GridSearchCV\n",
        "from tensorflow.keras.models import Sequential\n",
        "from tensorflow.keras.layers import Dense, Dropout, Input\n",
        "from tensorflow.keras.optimizers import Adam\n",
        "from tensorflow.keras.callbacks import EarlyStopping\n",
        "from keras_tuner import RandomSearch\n",
        "import tensorflow as tf\n",
        "from tensorflow.keras import layers"
      ],
      "metadata": {
        "id": "T9rxutGY_nVQ"
      },
      "execution_count": null,
      "outputs": []
    },
    {
      "cell_type": "code",
      "source": [
        "# Setting seeds for reproducibility\n",
        "np.random.seed(42)\n",
        "tf.random.set_seed(42)"
      ],
      "metadata": {
        "id": "Gmx6kfiV_msj"
      },
      "execution_count": null,
      "outputs": []
    },
    {
      "cell_type": "markdown",
      "source": [
        "## 3. Data Preparation"
      ],
      "metadata": {
        "id": "JQ4BUcdDkFjV"
      }
    },
    {
      "cell_type": "markdown",
      "source": [
        "### Loading & Inspecting the Data"
      ],
      "metadata": {
        "id": "uSmheOGjkL1M"
      }
    },
    {
      "cell_type": "markdown",
      "source": [
        "We load a course-level dataset containing demographic details, course information, and attendance-related columns. Prior to modeling, we briefly inspect the data (e.g., via `head()` or summary statistics) to confirm we have the correct fields and to gauge the distribution of our target variable.\n"
      ],
      "metadata": {
        "id": "rHb2urQIKfze"
      }
    },
    {
      "cell_type": "code",
      "source": [
        "# Loading the dataset from Google Drive\n",
        "from google.colab import drive\n",
        "drive.mount('/content/drive')"
      ],
      "metadata": {
        "colab": {
          "base_uri": "https://localhost:8080/"
        },
        "id": "30q_XSyZ_mUc",
        "outputId": "19a23bd6-750a-4cd6-e625-9e281cf342cd"
      },
      "execution_count": null,
      "outputs": [
        {
          "output_type": "stream",
          "name": "stdout",
          "text": [
            "Mounted at /content/drive\n"
          ]
        }
      ]
    },
    {
      "cell_type": "code",
      "source": [
        "# Loading the dataset\n",
        "file_path = '/content/drive/MyDrive/CourseLevelDatasetVersion2.csv'\n",
        "data = pd.read_csv(file_path)\n",
        "data.head()"
      ],
      "metadata": {
        "colab": {
          "base_uri": "https://localhost:8080/",
          "height": 423
        },
        "id": "M6nsAzz2_l3V",
        "outputId": "af3aea7b-84cb-4baa-daf2-ed5eb1345b0f"
      },
      "execution_count": null,
      "outputs": [
        {
          "output_type": "execute_result",
          "data": {
            "text/plain": [
              "     CentreName AcademicYear  LearnerCode  BookingId BookingType  \\\n",
              "0  ISC_Aberdeen      2019/20      2284932   31261386       Agent   \n",
              "1  ISC_Aberdeen      2019/20      2399500   31979379       Agent   \n",
              "2  ISC_Aberdeen      2019/20      2424946   27491184       Agent   \n",
              "3  ISC_Aberdeen      2019/20      2426583   28689190       Agent   \n",
              "4  ISC_Aberdeen      2019/20      2434674   35141670       Agent   \n",
              "\n",
              "               LeadSource DiscountType DateofBirth Gender Nationality  ...  \\\n",
              "0  Standard Agent Booking          NaN  13/01/1998   Male     Chinese  ...   \n",
              "1  Standard Agent Booking          NaN  12/02/1998   Male     Chinese  ...   \n",
              "2  Standard Agent Booking          NaN  07/04/2000   Male     Chinese  ...   \n",
              "3  Standard Agent Booking          NaN  18/05/1999   Male     Chinese  ...   \n",
              "4  Standard Agent Booking          NaN  19/04/1996   Male     Chinese  ...   \n",
              "\n",
              "  CreditWeightedAverage                              ProgressionDegree  \\\n",
              "0                  75.0  Msc Econ Accounting and Investment Management   \n",
              "1                  73.0                        BSc Biological Sciences   \n",
              "2                  66.0                                     MA Finance   \n",
              "3                  71.0                         MA Business Management   \n",
              "4                  60.0          MSc International Business Management   \n",
              "\n",
              "    ProgressionUniversity EligibleToProgress PresentCount LateCount  \\\n",
              "0  University of Aberdeen                Yes          NaN       NaN   \n",
              "1  University of Aberdeen                Yes         80.0       0.0   \n",
              "2  University of Aberdeen                Yes         88.0       0.0   \n",
              "3  University of Aberdeen                Yes        164.0      12.0   \n",
              "4  University of Aberdeen                Yes          NaN       NaN   \n",
              "\n",
              "   AuthorisedAbsenceCount UnauthorisedAbsenceCount ContactHours  \\\n",
              "0                     NaN                      NaN          NaN   \n",
              "1                    93.0                      5.0        215.0   \n",
              "2                    92.0                      6.0        226.0   \n",
              "3                    67.0                     15.0        399.0   \n",
              "4                     NaN                      NaN          NaN   \n",
              "\n",
              "  AttendancePercentage  \n",
              "0                  NaN  \n",
              "1                 97.0  \n",
              "2                 97.0  \n",
              "3                 94.0  \n",
              "4                  NaN  \n",
              "\n",
              "[5 rows x 36 columns]"
            ],
            "text/html": [
              "\n",
              "  <div id=\"df-461af2d0-7c9f-45e5-885c-76e00bcd721c\" class=\"colab-df-container\">\n",
              "    <div>\n",
              "<style scoped>\n",
              "    .dataframe tbody tr th:only-of-type {\n",
              "        vertical-align: middle;\n",
              "    }\n",
              "\n",
              "    .dataframe tbody tr th {\n",
              "        vertical-align: top;\n",
              "    }\n",
              "\n",
              "    .dataframe thead th {\n",
              "        text-align: right;\n",
              "    }\n",
              "</style>\n",
              "<table border=\"1\" class=\"dataframe\">\n",
              "  <thead>\n",
              "    <tr style=\"text-align: right;\">\n",
              "      <th></th>\n",
              "      <th>CentreName</th>\n",
              "      <th>AcademicYear</th>\n",
              "      <th>LearnerCode</th>\n",
              "      <th>BookingId</th>\n",
              "      <th>BookingType</th>\n",
              "      <th>LeadSource</th>\n",
              "      <th>DiscountType</th>\n",
              "      <th>DateofBirth</th>\n",
              "      <th>Gender</th>\n",
              "      <th>Nationality</th>\n",
              "      <th>...</th>\n",
              "      <th>CreditWeightedAverage</th>\n",
              "      <th>ProgressionDegree</th>\n",
              "      <th>ProgressionUniversity</th>\n",
              "      <th>EligibleToProgress</th>\n",
              "      <th>PresentCount</th>\n",
              "      <th>LateCount</th>\n",
              "      <th>AuthorisedAbsenceCount</th>\n",
              "      <th>UnauthorisedAbsenceCount</th>\n",
              "      <th>ContactHours</th>\n",
              "      <th>AttendancePercentage</th>\n",
              "    </tr>\n",
              "  </thead>\n",
              "  <tbody>\n",
              "    <tr>\n",
              "      <th>0</th>\n",
              "      <td>ISC_Aberdeen</td>\n",
              "      <td>2019/20</td>\n",
              "      <td>2284932</td>\n",
              "      <td>31261386</td>\n",
              "      <td>Agent</td>\n",
              "      <td>Standard Agent Booking</td>\n",
              "      <td>NaN</td>\n",
              "      <td>13/01/1998</td>\n",
              "      <td>Male</td>\n",
              "      <td>Chinese</td>\n",
              "      <td>...</td>\n",
              "      <td>75.0</td>\n",
              "      <td>Msc Econ Accounting and Investment Management</td>\n",
              "      <td>University of Aberdeen</td>\n",
              "      <td>Yes</td>\n",
              "      <td>NaN</td>\n",
              "      <td>NaN</td>\n",
              "      <td>NaN</td>\n",
              "      <td>NaN</td>\n",
              "      <td>NaN</td>\n",
              "      <td>NaN</td>\n",
              "    </tr>\n",
              "    <tr>\n",
              "      <th>1</th>\n",
              "      <td>ISC_Aberdeen</td>\n",
              "      <td>2019/20</td>\n",
              "      <td>2399500</td>\n",
              "      <td>31979379</td>\n",
              "      <td>Agent</td>\n",
              "      <td>Standard Agent Booking</td>\n",
              "      <td>NaN</td>\n",
              "      <td>12/02/1998</td>\n",
              "      <td>Male</td>\n",
              "      <td>Chinese</td>\n",
              "      <td>...</td>\n",
              "      <td>73.0</td>\n",
              "      <td>BSc Biological Sciences</td>\n",
              "      <td>University of Aberdeen</td>\n",
              "      <td>Yes</td>\n",
              "      <td>80.0</td>\n",
              "      <td>0.0</td>\n",
              "      <td>93.0</td>\n",
              "      <td>5.0</td>\n",
              "      <td>215.0</td>\n",
              "      <td>97.0</td>\n",
              "    </tr>\n",
              "    <tr>\n",
              "      <th>2</th>\n",
              "      <td>ISC_Aberdeen</td>\n",
              "      <td>2019/20</td>\n",
              "      <td>2424946</td>\n",
              "      <td>27491184</td>\n",
              "      <td>Agent</td>\n",
              "      <td>Standard Agent Booking</td>\n",
              "      <td>NaN</td>\n",
              "      <td>07/04/2000</td>\n",
              "      <td>Male</td>\n",
              "      <td>Chinese</td>\n",
              "      <td>...</td>\n",
              "      <td>66.0</td>\n",
              "      <td>MA Finance</td>\n",
              "      <td>University of Aberdeen</td>\n",
              "      <td>Yes</td>\n",
              "      <td>88.0</td>\n",
              "      <td>0.0</td>\n",
              "      <td>92.0</td>\n",
              "      <td>6.0</td>\n",
              "      <td>226.0</td>\n",
              "      <td>97.0</td>\n",
              "    </tr>\n",
              "    <tr>\n",
              "      <th>3</th>\n",
              "      <td>ISC_Aberdeen</td>\n",
              "      <td>2019/20</td>\n",
              "      <td>2426583</td>\n",
              "      <td>28689190</td>\n",
              "      <td>Agent</td>\n",
              "      <td>Standard Agent Booking</td>\n",
              "      <td>NaN</td>\n",
              "      <td>18/05/1999</td>\n",
              "      <td>Male</td>\n",
              "      <td>Chinese</td>\n",
              "      <td>...</td>\n",
              "      <td>71.0</td>\n",
              "      <td>MA Business Management</td>\n",
              "      <td>University of Aberdeen</td>\n",
              "      <td>Yes</td>\n",
              "      <td>164.0</td>\n",
              "      <td>12.0</td>\n",
              "      <td>67.0</td>\n",
              "      <td>15.0</td>\n",
              "      <td>399.0</td>\n",
              "      <td>94.0</td>\n",
              "    </tr>\n",
              "    <tr>\n",
              "      <th>4</th>\n",
              "      <td>ISC_Aberdeen</td>\n",
              "      <td>2019/20</td>\n",
              "      <td>2434674</td>\n",
              "      <td>35141670</td>\n",
              "      <td>Agent</td>\n",
              "      <td>Standard Agent Booking</td>\n",
              "      <td>NaN</td>\n",
              "      <td>19/04/1996</td>\n",
              "      <td>Male</td>\n",
              "      <td>Chinese</td>\n",
              "      <td>...</td>\n",
              "      <td>60.0</td>\n",
              "      <td>MSc International Business Management</td>\n",
              "      <td>University of Aberdeen</td>\n",
              "      <td>Yes</td>\n",
              "      <td>NaN</td>\n",
              "      <td>NaN</td>\n",
              "      <td>NaN</td>\n",
              "      <td>NaN</td>\n",
              "      <td>NaN</td>\n",
              "      <td>NaN</td>\n",
              "    </tr>\n",
              "  </tbody>\n",
              "</table>\n",
              "<p>5 rows × 36 columns</p>\n",
              "</div>\n",
              "    <div class=\"colab-df-buttons\">\n",
              "\n",
              "  <div class=\"colab-df-container\">\n",
              "    <button class=\"colab-df-convert\" onclick=\"convertToInteractive('df-461af2d0-7c9f-45e5-885c-76e00bcd721c')\"\n",
              "            title=\"Convert this dataframe to an interactive table.\"\n",
              "            style=\"display:none;\">\n",
              "\n",
              "  <svg xmlns=\"http://www.w3.org/2000/svg\" height=\"24px\" viewBox=\"0 -960 960 960\">\n",
              "    <path d=\"M120-120v-720h720v720H120Zm60-500h600v-160H180v160Zm220 220h160v-160H400v160Zm0 220h160v-160H400v160ZM180-400h160v-160H180v160Zm440 0h160v-160H620v160ZM180-180h160v-160H180v160Zm440 0h160v-160H620v160Z\"/>\n",
              "  </svg>\n",
              "    </button>\n",
              "\n",
              "  <style>\n",
              "    .colab-df-container {\n",
              "      display:flex;\n",
              "      gap: 12px;\n",
              "    }\n",
              "\n",
              "    .colab-df-convert {\n",
              "      background-color: #E8F0FE;\n",
              "      border: none;\n",
              "      border-radius: 50%;\n",
              "      cursor: pointer;\n",
              "      display: none;\n",
              "      fill: #1967D2;\n",
              "      height: 32px;\n",
              "      padding: 0 0 0 0;\n",
              "      width: 32px;\n",
              "    }\n",
              "\n",
              "    .colab-df-convert:hover {\n",
              "      background-color: #E2EBFA;\n",
              "      box-shadow: 0px 1px 2px rgba(60, 64, 67, 0.3), 0px 1px 3px 1px rgba(60, 64, 67, 0.15);\n",
              "      fill: #174EA6;\n",
              "    }\n",
              "\n",
              "    .colab-df-buttons div {\n",
              "      margin-bottom: 4px;\n",
              "    }\n",
              "\n",
              "    [theme=dark] .colab-df-convert {\n",
              "      background-color: #3B4455;\n",
              "      fill: #D2E3FC;\n",
              "    }\n",
              "\n",
              "    [theme=dark] .colab-df-convert:hover {\n",
              "      background-color: #434B5C;\n",
              "      box-shadow: 0px 1px 3px 1px rgba(0, 0, 0, 0.15);\n",
              "      filter: drop-shadow(0px 1px 2px rgba(0, 0, 0, 0.3));\n",
              "      fill: #FFFFFF;\n",
              "    }\n",
              "  </style>\n",
              "\n",
              "    <script>\n",
              "      const buttonEl =\n",
              "        document.querySelector('#df-461af2d0-7c9f-45e5-885c-76e00bcd721c button.colab-df-convert');\n",
              "      buttonEl.style.display =\n",
              "        google.colab.kernel.accessAllowed ? 'block' : 'none';\n",
              "\n",
              "      async function convertToInteractive(key) {\n",
              "        const element = document.querySelector('#df-461af2d0-7c9f-45e5-885c-76e00bcd721c');\n",
              "        const dataTable =\n",
              "          await google.colab.kernel.invokeFunction('convertToInteractive',\n",
              "                                                    [key], {});\n",
              "        if (!dataTable) return;\n",
              "\n",
              "        const docLinkHtml = 'Like what you see? Visit the ' +\n",
              "          '<a target=\"_blank\" href=https://colab.research.google.com/notebooks/data_table.ipynb>data table notebook</a>'\n",
              "          + ' to learn more about interactive tables.';\n",
              "        element.innerHTML = '';\n",
              "        dataTable['output_type'] = 'display_data';\n",
              "        await google.colab.output.renderOutput(dataTable, element);\n",
              "        const docLink = document.createElement('div');\n",
              "        docLink.innerHTML = docLinkHtml;\n",
              "        element.appendChild(docLink);\n",
              "      }\n",
              "    </script>\n",
              "  </div>\n",
              "\n",
              "\n",
              "<div id=\"df-39a239ee-c1c9-4b6a-9303-75960a2914d7\">\n",
              "  <button class=\"colab-df-quickchart\" onclick=\"quickchart('df-39a239ee-c1c9-4b6a-9303-75960a2914d7')\"\n",
              "            title=\"Suggest charts\"\n",
              "            style=\"display:none;\">\n",
              "\n",
              "<svg xmlns=\"http://www.w3.org/2000/svg\" height=\"24px\"viewBox=\"0 0 24 24\"\n",
              "     width=\"24px\">\n",
              "    <g>\n",
              "        <path d=\"M19 3H5c-1.1 0-2 .9-2 2v14c0 1.1.9 2 2 2h14c1.1 0 2-.9 2-2V5c0-1.1-.9-2-2-2zM9 17H7v-7h2v7zm4 0h-2V7h2v10zm4 0h-2v-4h2v4z\"/>\n",
              "    </g>\n",
              "</svg>\n",
              "  </button>\n",
              "\n",
              "<style>\n",
              "  .colab-df-quickchart {\n",
              "      --bg-color: #E8F0FE;\n",
              "      --fill-color: #1967D2;\n",
              "      --hover-bg-color: #E2EBFA;\n",
              "      --hover-fill-color: #174EA6;\n",
              "      --disabled-fill-color: #AAA;\n",
              "      --disabled-bg-color: #DDD;\n",
              "  }\n",
              "\n",
              "  [theme=dark] .colab-df-quickchart {\n",
              "      --bg-color: #3B4455;\n",
              "      --fill-color: #D2E3FC;\n",
              "      --hover-bg-color: #434B5C;\n",
              "      --hover-fill-color: #FFFFFF;\n",
              "      --disabled-bg-color: #3B4455;\n",
              "      --disabled-fill-color: #666;\n",
              "  }\n",
              "\n",
              "  .colab-df-quickchart {\n",
              "    background-color: var(--bg-color);\n",
              "    border: none;\n",
              "    border-radius: 50%;\n",
              "    cursor: pointer;\n",
              "    display: none;\n",
              "    fill: var(--fill-color);\n",
              "    height: 32px;\n",
              "    padding: 0;\n",
              "    width: 32px;\n",
              "  }\n",
              "\n",
              "  .colab-df-quickchart:hover {\n",
              "    background-color: var(--hover-bg-color);\n",
              "    box-shadow: 0 1px 2px rgba(60, 64, 67, 0.3), 0 1px 3px 1px rgba(60, 64, 67, 0.15);\n",
              "    fill: var(--button-hover-fill-color);\n",
              "  }\n",
              "\n",
              "  .colab-df-quickchart-complete:disabled,\n",
              "  .colab-df-quickchart-complete:disabled:hover {\n",
              "    background-color: var(--disabled-bg-color);\n",
              "    fill: var(--disabled-fill-color);\n",
              "    box-shadow: none;\n",
              "  }\n",
              "\n",
              "  .colab-df-spinner {\n",
              "    border: 2px solid var(--fill-color);\n",
              "    border-color: transparent;\n",
              "    border-bottom-color: var(--fill-color);\n",
              "    animation:\n",
              "      spin 1s steps(1) infinite;\n",
              "  }\n",
              "\n",
              "  @keyframes spin {\n",
              "    0% {\n",
              "      border-color: transparent;\n",
              "      border-bottom-color: var(--fill-color);\n",
              "      border-left-color: var(--fill-color);\n",
              "    }\n",
              "    20% {\n",
              "      border-color: transparent;\n",
              "      border-left-color: var(--fill-color);\n",
              "      border-top-color: var(--fill-color);\n",
              "    }\n",
              "    30% {\n",
              "      border-color: transparent;\n",
              "      border-left-color: var(--fill-color);\n",
              "      border-top-color: var(--fill-color);\n",
              "      border-right-color: var(--fill-color);\n",
              "    }\n",
              "    40% {\n",
              "      border-color: transparent;\n",
              "      border-right-color: var(--fill-color);\n",
              "      border-top-color: var(--fill-color);\n",
              "    }\n",
              "    60% {\n",
              "      border-color: transparent;\n",
              "      border-right-color: var(--fill-color);\n",
              "    }\n",
              "    80% {\n",
              "      border-color: transparent;\n",
              "      border-right-color: var(--fill-color);\n",
              "      border-bottom-color: var(--fill-color);\n",
              "    }\n",
              "    90% {\n",
              "      border-color: transparent;\n",
              "      border-bottom-color: var(--fill-color);\n",
              "    }\n",
              "  }\n",
              "</style>\n",
              "\n",
              "  <script>\n",
              "    async function quickchart(key) {\n",
              "      const quickchartButtonEl =\n",
              "        document.querySelector('#' + key + ' button');\n",
              "      quickchartButtonEl.disabled = true;  // To prevent multiple clicks.\n",
              "      quickchartButtonEl.classList.add('colab-df-spinner');\n",
              "      try {\n",
              "        const charts = await google.colab.kernel.invokeFunction(\n",
              "            'suggestCharts', [key], {});\n",
              "      } catch (error) {\n",
              "        console.error('Error during call to suggestCharts:', error);\n",
              "      }\n",
              "      quickchartButtonEl.classList.remove('colab-df-spinner');\n",
              "      quickchartButtonEl.classList.add('colab-df-quickchart-complete');\n",
              "    }\n",
              "    (() => {\n",
              "      let quickchartButtonEl =\n",
              "        document.querySelector('#df-39a239ee-c1c9-4b6a-9303-75960a2914d7 button');\n",
              "      quickchartButtonEl.style.display =\n",
              "        google.colab.kernel.accessAllowed ? 'block' : 'none';\n",
              "    })();\n",
              "  </script>\n",
              "</div>\n",
              "\n",
              "    </div>\n",
              "  </div>\n"
            ],
            "application/vnd.google.colaboratory.intrinsic+json": {
              "type": "dataframe",
              "variable_name": "data"
            }
          },
          "metadata": {},
          "execution_count": 6
        }
      ]
    },
    {
      "cell_type": "markdown",
      "source": [
        "### Handling Missing Data"
      ],
      "metadata": {
        "id": "CU8yE_n5kXOH"
      }
    },
    {
      "cell_type": "code",
      "source": [
        "# Checking for missing values in the dataset\n",
        "missing_values = data.isnull().sum()\n",
        "print(missing_values)"
      ],
      "metadata": {
        "colab": {
          "base_uri": "https://localhost:8080/"
        },
        "id": "RU4JZIAw_kQ_",
        "outputId": "fe77450c-48a8-43fa-9354-eab8bf5f43e7"
      },
      "execution_count": null,
      "outputs": [
        {
          "output_type": "stream",
          "name": "stdout",
          "text": [
            "CentreName                     0\n",
            "DateofBirth                    0\n",
            "Gender                         0\n",
            "CourseLevel                    0\n",
            "IsFirstIntake                  0\n",
            "CompletedCourse                0\n",
            "CreditWeightedAverage       2296\n",
            "ProgressionUniversity          0\n",
            "EligibleToProgress             0\n",
            "UnauthorisedAbsenceCount     208\n",
            "ContactHours                 208\n",
            "AttendancePercentage         208\n",
            "dtype: int64\n"
          ]
        }
      ]
    },
    {
      "cell_type": "markdown",
      "source": [
        "Given a relatively small number of missing entries, we drop rows with missing values. This simplifies the pipeline and avoids potential biases from imputation. If the missing rate were higher, alternative strategies (e.g., imputation) would be considered.\n"
      ],
      "metadata": {
        "id": "H8geFqxws8gD"
      }
    },
    {
      "cell_type": "code",
      "source": [
        "# Removing rows with missing values\n",
        "data = data.dropna()"
      ],
      "metadata": {
        "id": "e0pS2Wtk_j2T"
      },
      "execution_count": null,
      "outputs": []
    },
    {
      "cell_type": "markdown",
      "source": [
        "### Feature Selection & Engineering"
      ],
      "metadata": {
        "id": "0kK9WsMOkTkO"
      }
    },
    {
      "cell_type": "markdown",
      "source": [
        "We remove features that:\n",
        "1. **Act as unique identifiers** (providing little predictive value).\n",
        "2. **Possess high cardinality** with minimal overlap (risking noise).\n",
        "3. **Are explicitly indicated** by prior domain knowledge or initial exploration as redundant or irrelevant.\n",
        "\n",
        "This ensures our final dataset focuses on the most impactful variables for dropout prediction.\n"
      ],
      "metadata": {
        "id": "4b6DVHJDKvrg"
      }
    },
    {
      "cell_type": "code",
      "source": [
        "# Filtering out irrelevant columns\n",
        "columns_to_remove = ['BookingId', 'BookingType', 'LeadSource', 'DiscountType', 'Nationality', 'HomeCountry', 'HomeState', 'HomeCity', 'PresentCount', 'LateCount', 'AuthorisedAbsenceCount', 'ArrivedDate', 'NonCompletionReason', 'TerminationDate', 'CourseFirstIntakeDate', 'CourseStartDate', 'CourseEndDate', 'AcademicYear', 'CourseName', 'LearnerCode', 'ProgressionDegree', 'AssessedModules', 'PassedModules', 'FailedModules']\n",
        "data = data.drop(columns=columns_to_remove)"
      ],
      "metadata": {
        "id": "FSMmRp20_lVQ"
      },
      "execution_count": null,
      "outputs": []
    },
    {
      "cell_type": "code",
      "source": [
        "# Feature Engineering - Converting Date of Birth to Age\n",
        "data['Age'] = pd.to_datetime('today').year - pd.to_datetime(data['DateofBirth'], dayfirst=True).dt.year"
      ],
      "metadata": {
        "id": "klgpw1o9a9zn"
      },
      "execution_count": null,
      "outputs": []
    },
    {
      "cell_type": "code",
      "source": [
        "# Dropping 'DateofBirth' as it is no longer needed\n",
        "data = data.drop(columns=['DateofBirth'])"
      ],
      "metadata": {
        "id": "XQHvFjOB_i7A"
      },
      "execution_count": null,
      "outputs": []
    },
    {
      "cell_type": "markdown",
      "source": [
        "Instead of using raw dates, we create an 'Age' feature. This numeric representation helps capture demographic nuances that may correlate with dropout risk, such as older students possibly having distinct motivations or external responsibilities.\n"
      ],
      "metadata": {
        "id": "tLsvqeuuqbPI"
      }
    },
    {
      "cell_type": "code",
      "source": [
        "# Setting Target Variable\n",
        "data['CompletedCourse'] = data['CompletedCourse'].apply(lambda x: 1 if x == 'Yes' else 0)"
      ],
      "metadata": {
        "id": "i92ANXAI_ioc"
      },
      "execution_count": null,
      "outputs": []
    },
    {
      "cell_type": "code",
      "source": [
        "# Converting 'EligibleToProgress' to binary encoding\n",
        "data['EligibleToProgress'] = data['EligibleToProgress'].apply(lambda x: 1 if x == 'Yes' else 0)"
      ],
      "metadata": {
        "id": "qiAa0S-D_iWi"
      },
      "execution_count": null,
      "outputs": []
    },
    {
      "cell_type": "code",
      "source": [
        "# One-hot encoding 'ProgressionUniversity'\n",
        "progression_university_encoded = pd.get_dummies(data['ProgressionUniversity'], prefix='ProgressionUniversity')\n",
        "data = pd.concat([data, progression_university_encoded], axis=1)\n",
        "data = data.drop(columns=['ProgressionUniversity'])"
      ],
      "metadata": {
        "id": "zrJxTsSz_h8d"
      },
      "execution_count": null,
      "outputs": []
    },
    {
      "cell_type": "code",
      "source": [
        "# Plotting Target Variable Count Plot (Before Scaling)\n",
        "plt.figure(figsize=(6, 4))\n",
        "sns.countplot(x='CompletedCourse', data=data)\n",
        "plt.title('Count Plot of Target Variable (CompletedCourse)')\n",
        "plt.xlabel('Completed Course (0 = No, 1 = Yes)')\n",
        "plt.ylabel('Count')\n",
        "plt.show()"
      ],
      "metadata": {
        "colab": {
          "base_uri": "https://localhost:8080/",
          "height": 410
        },
        "id": "7JvfjFwL_gFy",
        "outputId": "b02194ec-8794-48a5-937a-c5423d2cd620"
      },
      "execution_count": null,
      "outputs": [
        {
          "output_type": "display_data",
          "data": {
            "text/plain": [
              "<Figure size 600x400 with 1 Axes>"
            ],
            "image/png": "[encoded data removed]"
          },
          "metadata": {}
        }
      ]
    },
    {
      "cell_type": "markdown",
      "source": [
        "A simple count plot of our target variable reveals:\n",
        "- **Significant class imbalance**: many more students complete (1) than drop out (0).\n",
        "- This imbalance justifies focusing on metrics like recall, precision, and AUC—beyond raw accuracy—to accurately capture the minority class.\n"
      ],
      "metadata": {
        "id": "Mn1bva3IMqcp"
      }
    },
    {
      "cell_type": "markdown",
      "source": [
        "We apply one-hot encoding for categorical features like centre name and course level. This avoids imposing an unwarranted ordinal relationship among categories and ensures each distinct category is treated independently by our models.\n"
      ],
      "metadata": {
        "id": "hXZdVJWvqqSZ"
      }
    },
    {
      "cell_type": "code",
      "source": [
        "# One-Hot Encoding for Categorical Features\n",
        "categorical_features = ['CentreName', 'Gender', 'CourseLevel']\n",
        "one_hot_encoder = OneHotEncoder()\n",
        "encoded_features = one_hot_encoder.fit_transform(data[categorical_features]).toarray()\n",
        "encoded_features_df = pd.DataFrame(encoded_features, columns=one_hot_encoder.get_feature_names_out(categorical_features))"
      ],
      "metadata": {
        "id": "DWRCfnel_VeB"
      },
      "execution_count": null,
      "outputs": []
    },
    {
      "cell_type": "code",
      "source": [
        "# Resetting index of both dataframes to ensure alignment before concatenation\n",
        "data.reset_index(drop=True, inplace=True)\n",
        "encoded_features_df.reset_index(drop=True, inplace=True)"
      ],
      "metadata": {
        "id": "YehmpnFA_VAy"
      },
      "execution_count": null,
      "outputs": []
    },
    {
      "cell_type": "code",
      "source": [
        "# Concatenating encoded features with original dataset and dropping original categorical columns\n",
        "data = pd.concat([data, encoded_features_df], axis=1)\n",
        "data = data.drop(columns=categorical_features)"
      ],
      "metadata": {
        "id": "WE_H79q4_UW5"
      },
      "execution_count": null,
      "outputs": []
    },
    {
      "cell_type": "code",
      "source": [
        "# Plotting Boxplots of Numerical Features Grouped by Target Variable (Before Scaling)\n",
        "numerical_features = ['Age', 'CreditWeightedAverage', 'UnauthorisedAbsenceCount', 'ContactHours', 'AttendancePercentage']  # List of numerical features\n",
        "for feature in numerical_features:\n",
        "    plt.figure(figsize=(5, 3))\n",
        "    sns.boxplot(x='CompletedCourse', y=feature, data=data)\n",
        "    plt.title(f'Boxplot of {feature} by CompletedCourse')\n",
        "    plt.xlabel('Completed Course (0 = No, 1 = Yes)')\n",
        "    plt.ylabel(feature)\n",
        "    plt.show()"
      ],
      "metadata": {
        "colab": {
          "base_uri": "https://localhost:8080/",
          "height": 1000
        },
        "id": "gK2Aw6oL_UBi",
        "outputId": "1d980710-c0c5-466a-8ed0-9bd2c1cc319b"
      },
      "execution_count": null,
      "outputs": [
        {
          "output_type": "display_data",
          "data": {
            "text/plain": [
              "<Figure size 500x300 with 1 Axes>"
            ],
            "image/png": "[encoded data removed]"
          },
          "metadata": {}
        },
        {
          "output_type": "display_data",
          "data": {
            "text/plain": [
              "<Figure size 500x300 with 1 Axes>"
            ],
            "image/png": "[encoded data removed]"
          },
          "metadata": {}
        },
        {
          "output_type": "display_data",
          "data": {
            "text/plain": [
              "<Figure size 500x300 with 1 Axes>"
            ],
            "image/png": "[encoded data removed]"
          },
          "metadata": {}
        },
        {
          "output_type": "display_data",
          "data": {
            "text/plain": [
              "<Figure size 500x300 with 1 Axes>"
            ],
            "image/png": "[encoded data removed]"
          },
          "metadata": {}
        },
        {
          "output_type": "display_data",
          "data": {
            "text/plain": [
              "<Figure size 500x300 with 1 Axes>"
            ],
            "image/png": "[encoded data removed]"
          },
          "metadata": {}
        }
      ]
    },
    {
      "cell_type": "markdown",
      "source": [
        "These boxplots compare the distribution of several numerical features between non-completers (0) and completers (1):\n",
        "\n",
        "- **Age**: Completers exhibit a slightly wider range and higher outliers, indicating that older students often do complete, but there can also be older dropouts.\n",
        "- **CreditWeightedAverage**: Completers’ credit averages tend to be higher overall, suggesting academic performance correlates with completion.\n",
        "- **ContactHours**: Students who complete have higher median contact hours, implying engagement or attendance strongly influences persistence.\n",
        "- **AttendancePercentage**: Completers show significantly higher attendance rates, reinforcing the critical role of consistent participation.\n",
        "- **UnauthorisedAbsenceCount**: Non-completers tend to have more unauthorised absences, supporting the link between missed sessions and dropout risk.\n",
        "\n",
        "Visualising each feature this way helps confirm that course completion is closely associated with academic performance, attendance, and overall engagement—factors we leverage in our predictive models.\n"
      ],
      "metadata": {
        "id": "IxrJF2STcah1"
      }
    },
    {
      "cell_type": "markdown",
      "source": [
        "### Train-Test Split and Scaling\n"
      ],
      "metadata": {
        "id": "3GXf_Lc-brSY"
      }
    },
    {
      "cell_type": "markdown",
      "source": [
        "We split the data into an 80% training set and a 20% test set, ensuring unseen data for final evaluation. Numerical columns are standardised (mean=0, std=1) to stabilise training for models sensitive to feature magnitude (e.g., neural networks).\n"
      ],
      "metadata": {
        "id": "QjAIWzHTxmjQ"
      }
    },
    {
      "cell_type": "code",
      "source": [
        "# Splitting Data into Training and Test Set\n",
        "X = data.drop(columns=['CompletedCourse'])\n",
        "y = data['CompletedCourse']\n",
        "X_train, X_test, y_train, y_test = train_test_split(X, y, test_size=0.2, random_state=42)"
      ],
      "metadata": {
        "id": "_3kW_vgGblIZ"
      },
      "execution_count": null,
      "outputs": []
    },
    {
      "cell_type": "code",
      "source": [
        "# Scaling Numerical Features\n",
        "scaler = StandardScaler()\n",
        "X_train[numerical_features] = scaler.fit_transform(X_train.loc[:, numerical_features])\n",
        "X_test[numerical_features] = scaler.transform(X_test.loc[:, numerical_features])"
      ],
      "metadata": {
        "id": "xykPOyY7_SZq"
      },
      "execution_count": null,
      "outputs": []
    },
    {
      "cell_type": "code",
      "source": [
        "# Resetting index after train-test split\n",
        "X_train.reset_index(drop=True, inplace=True)\n",
        "y_train.reset_index(drop=True, inplace=True)\n",
        "X_test.reset_index(drop=True, inplace=True)\n",
        "y_test.reset_index(drop=True, inplace=True)"
      ],
      "metadata": {
        "id": "ZO3qXU1j_R5x"
      },
      "execution_count": null,
      "outputs": []
    },
    {
      "cell_type": "markdown",
      "source": [
        "## 4. XGBoost Model Development and Optimisation\n"
      ],
      "metadata": {
        "id": "I0fJ-91Bbw6I"
      }
    },
    {
      "cell_type": "markdown",
      "source": [
        "We start by training XGBoost without two key attendance metrics—`ContactHours` and `AttendancePercentage`. This controlled approach establishes a baseline to later measure the incremental impact of these features. Our initial hyperparameters remain close to defaults, providing a clear reference point.\n"
      ],
      "metadata": {
        "id": "qAsOoZAoxvm3"
      }
    },
    {
      "cell_type": "markdown",
      "source": [
        "### Baseline XGBoost Model (Without Attendance Data)\n",
        "\n"
      ],
      "metadata": {
        "id": "eVJgzTQcwg9i"
      }
    },
    {
      "cell_type": "code",
      "source": [
        "# Instantiating and Fitting the Non-Optimised XGBoost Model\n",
        "X_train_no_features = X_train.drop(columns=['ContactHours', 'AttendancePercentage'], errors='ignore')\n",
        "X_test_no_features = X_test.drop(columns=['ContactHours', 'AttendancePercentage'], errors='ignore')\n",
        "\n",
        "xgb_model_no_features = xgb.XGBClassifier(scale_pos_weight=(y_train.value_counts()[0] / y_train.value_counts()[1]), random_state=42)\n",
        "xgb_model_no_features.fit(X_train_no_features, y_train)"
      ],
      "metadata": {
        "colab": {
          "base_uri": "https://localhost:8080/",
          "height": 250
        },
        "id": "XHy6TbaD_RDS",
        "outputId": "60ea6330-0bfa-45c3-809b-5d12f30df5ea"
      },
      "execution_count": null,
      "outputs": [
        {
          "output_type": "execute_result",
          "data": {
            "text/plain": [
              "XGBClassifier(base_score=None, booster=None, callbacks=None,\n",
              "              colsample_bylevel=None, colsample_bynode=None,\n",
              "              colsample_bytree=None, device=None, early_stopping_rounds=None,\n",
              "              enable_categorical=False, eval_metric=None, feature_types=None,\n",
              "              gamma=None, grow_policy=None, importance_type=None,\n",
              "              interaction_constraints=None, learning_rate=None, max_bin=None,\n",
              "              max_cat_threshold=None, max_cat_to_onehot=None,\n",
              "              max_delta_step=None, max_depth=None, max_leaves=None,\n",
              "              min_child_weight=None, missing=nan, monotone_constraints=None,\n",
              "              multi_strategy=None, n_estimators=None, n_jobs=None,\n",
              "              num_parallel_tree=None, random_state=42, ...)"
            ],
            "text/html": [
              "<style>#sk-container-id-1 {\n",
              "  /* Definition of color scheme common for light and dark mode */\n",
              "  --sklearn-color-text: black;\n",
              "  --sklearn-color-line: gray;\n",
              "  /* Definition of color scheme for unfitted estimators */\n",
              "  --sklearn-color-unfitted-level-0: #fff5e6;\n",
              "  --sklearn-color-unfitted-level-1: #f6e4d2;\n",
              "  --sklearn-color-unfitted-level-2: #ffe0b3;\n",
              "  --sklearn-color-unfitted-level-3: chocolate;\n",
              "  /* Definition of color scheme for fitted estimators */\n",
              "  --sklearn-color-fitted-level-0: #f0f8ff;\n",
              "  --sklearn-color-fitted-level-1: #d4ebff;\n",
              "  --sklearn-color-fitted-level-2: #b3dbfd;\n",
              "  --sklearn-color-fitted-level-3: cornflowerblue;\n",
              "\n",
              "  /* Specific color for light theme */\n",
              "  --sklearn-color-text-on-default-background: var(--sg-text-color, var(--theme-code-foreground, var(--jp-content-font-color1, black)));\n",
              "  --sklearn-color-background: var(--sg-background-color, var(--theme-background, var(--jp-layout-color0, white)));\n",
              "  --sklearn-color-border-box: var(--sg-text-color, var(--theme-code-foreground, var(--jp-content-font-color1, black)));\n",
              "  --sklearn-color-icon: #696969;\n",
              "\n",
              "  @media (prefers-color-scheme: dark) {\n",
              "    /* Redefinition of color scheme for dark theme */\n",
              "    --sklearn-color-text-on-default-background: var(--sg-text-color, var(--theme-code-foreground, var(--jp-content-font-color1, white)));\n",
              "    --sklearn-color-background: var(--sg-background-color, var(--theme-background, var(--jp-layout-color0, #111)));\n",
              "    --sklearn-color-border-box: var(--sg-text-color, var(--theme-code-foreground, var(--jp-content-font-color1, white)));\n",
              "    --sklearn-color-icon: #878787;\n",
              "  }\n",
              "}\n",
              "\n",
              "#sk-container-id-1 {\n",
              "  color: var(--sklearn-color-text);\n",
              "}\n",
              "\n",
              "#sk-container-id-1 pre {\n",
              "  padding: 0;\n",
              "}\n",
              "\n",
              "#sk-container-id-1 input.sk-hidden--visually {\n",
              "  border: 0;\n",
              "  clip: rect(1px 1px 1px 1px);\n",
              "  clip: rect(1px, 1px, 1px, 1px);\n",
              "  height: 1px;\n",
              "  margin: -1px;\n",
              "  overflow: hidden;\n",
              "  padding: 0;\n",
              "  position: absolute;\n",
              "  width: 1px;\n",
              "}\n",
              "\n",
              "#sk-container-id-1 div.sk-dashed-wrapped {\n",
              "  border: 1px dashed var(--sklearn-color-line);\n",
              "  margin: 0 0.4em 0.5em 0.4em;\n",
              "  box-sizing: border-box;\n",
              "  padding-bottom: 0.4em;\n",
              "  background-color: var(--sklearn-color-background);\n",
              "}\n",
              "\n",
              "#sk-container-id-1 div.sk-container {\n",
              "  /* jupyter's `normalize.less` sets `[hidden] { display: none; }`\n",
              "     but bootstrap.min.css set `[hidden] { display: none !important; }`\n",
              "     so we also need the `!important` here to be able to override the\n",
              "     default hidden behavior on the sphinx rendered scikit-learn.org.\n",
              "     See: https://github.com/scikit-learn/scikit-learn/issues/21755 */\n",
              "  display: inline-block !important;\n",
              "  position: relative;\n",
              "}\n",
              "\n",
              "#sk-container-id-1 div.sk-text-repr-fallback {\n",
              "  display: none;\n",
              "}\n",
              "\n",
              "div.sk-parallel-item,\n",
              "div.sk-serial,\n",
              "div.sk-item {\n",
              "  /* draw centered vertical line to link estimators */\n",
              "  background-image: linear-gradient(var(--sklearn-color-text-on-default-background), var(--sklearn-color-text-on-default-background));\n",
              "  background-size: 2px 100%;\n",
              "  background-repeat: no-repeat;\n",
              "  background-position: center center;\n",
              "}\n",
              "\n",
              "/* Parallel-specific style estimator block */\n",
              "\n",
              "#sk-container-id-1 div.sk-parallel-item::after {\n",
              "  content: \"\";\n",
              "  width: 100%;\n",
              "  border-bottom: 2px solid var(--sklearn-color-text-on-default-background);\n",
              "  flex-grow: 1;\n",
              "}\n",
              "\n",
              "#sk-container-id-1 div.sk-parallel {\n",
              "  display: flex;\n",
              "  align-items: stretch;\n",
              "  justify-content: center;\n",
              "  background-color: var(--sklearn-color-background);\n",
              "  position: relative;\n",
              "}\n",
              "\n",
              "#sk-container-id-1 div.sk-parallel-item {\n",
              "  display: flex;\n",
              "  flex-direction: column;\n",
              "}\n",
              "\n",
              "#sk-container-id-1 div.sk-parallel-item:first-child::after {\n",
              "  align-self: flex-end;\n",
              "  width: 50%;\n",
              "}\n",
              "\n",
              "#sk-container-id-1 div.sk-parallel-item:last-child::after {\n",
              "  align-self: flex-start;\n",
              "  width: 50%;\n",
              "}\n",
              "\n",
              "#sk-container-id-1 div.sk-parallel-item:only-child::after {\n",
              "  width: 0;\n",
              "}\n",
              "\n",
              "/* Serial-specific style estimator block */\n",
              "\n",
              "#sk-container-id-1 div.sk-serial {\n",
              "  display: flex;\n",
              "  flex-direction: column;\n",
              "  align-items: center;\n",
              "  background-color: var(--sklearn-color-background);\n",
              "  padding-right: 1em;\n",
              "  padding-left: 1em;\n",
              "}\n",
              "\n",
              "\n",
              "/* Toggleable style: style used for estimator/Pipeline/ColumnTransformer box that is\n",
              "clickable and can be expanded/collapsed.\n",
              "- Pipeline and ColumnTransformer use this feature and define the default style\n",
              "- Estimators will overwrite some part of the style using the `sk-estimator` class\n",
              "*/\n",
              "\n",
              "/* Pipeline and ColumnTransformer style (default) */\n",
              "\n",
              "#sk-container-id-1 div.sk-toggleable {\n",
              "  /* Default theme specific background. It is overwritten whether we have a\n",
              "  specific estimator or a Pipeline/ColumnTransformer */\n",
              "  background-color: var(--sklearn-color-background);\n",
              "}\n",
              "\n",
              "/* Toggleable label */\n",
              "#sk-container-id-1 label.sk-toggleable__label {\n",
              "  cursor: pointer;\n",
              "  display: block;\n",
              "  width: 100%;\n",
              "  margin-bottom: 0;\n",
              "  padding: 0.5em;\n",
              "  box-sizing: border-box;\n",
              "  text-align: center;\n",
              "}\n",
              "\n",
              "#sk-container-id-1 label.sk-toggleable__label-arrow:before {\n",
              "  /* Arrow on the left of the label */\n",
              "  content: \"▸\";\n",
              "  float: left;\n",
              "  margin-right: 0.25em;\n",
              "  color: var(--sklearn-color-icon);\n",
              "}\n",
              "\n",
              "#sk-container-id-1 label.sk-toggleable__label-arrow:hover:before {\n",
              "  color: var(--sklearn-color-text);\n",
              "}\n",
              "\n",
              "/* Toggleable content - dropdown */\n",
              "\n",
              "#sk-container-id-1 div.sk-toggleable__content {\n",
              "  max-height: 0;\n",
              "  max-width: 0;\n",
              "  overflow: hidden;\n",
              "  text-align: left;\n",
              "  /* unfitted */\n",
              "  background-color: var(--sklearn-color-unfitted-level-0);\n",
              "}\n",
              "\n",
              "#sk-container-id-1 div.sk-toggleable__content.fitted {\n",
              "  /* fitted */\n",
              "  background-color: var(--sklearn-color-fitted-level-0);\n",
              "}\n",
              "\n",
              "#sk-container-id-1 div.sk-toggleable__content pre {\n",
              "  margin: 0.2em;\n",
              "  border-radius: 0.25em;\n",
              "  color: var(--sklearn-color-text);\n",
              "  /* unfitted */\n",
              "  background-color: var(--sklearn-color-unfitted-level-0);\n",
              "}\n",
              "\n",
              "#sk-container-id-1 div.sk-toggleable__content.fitted pre {\n",
              "  /* unfitted */\n",
              "  background-color: var(--sklearn-color-fitted-level-0);\n",
              "}\n",
              "\n",
              "#sk-container-id-1 input.sk-toggleable__control:checked~div.sk-toggleable__content {\n",
              "  /* Expand drop-down */\n",
              "  max-height: 200px;\n",
              "  max-width: 100%;\n",
              "  overflow: auto;\n",
              "}\n",
              "\n",
              "#sk-container-id-1 input.sk-toggleable__control:checked~label.sk-toggleable__label-arrow:before {\n",
              "  content: \"▾\";\n",
              "}\n",
              "\n",
              "/* Pipeline/ColumnTransformer-specific style */\n",
              "\n",
              "#sk-container-id-1 div.sk-label input.sk-toggleable__control:checked~label.sk-toggleable__label {\n",
              "  color: var(--sklearn-color-text);\n",
              "  background-color: var(--sklearn-color-unfitted-level-2);\n",
              "}\n",
              "\n",
              "#sk-container-id-1 div.sk-label.fitted input.sk-toggleable__control:checked~label.sk-toggleable__label {\n",
              "  background-color: var(--sklearn-color-fitted-level-2);\n",
              "}\n",
              "\n",
              "/* Estimator-specific style */\n",
              "\n",
              "/* Colorize estimator box */\n",
              "#sk-container-id-1 div.sk-estimator input.sk-toggleable__control:checked~label.sk-toggleable__label {\n",
              "  /* unfitted */\n",
              "  background-color: var(--sklearn-color-unfitted-level-2);\n",
              "}\n",
              "\n",
              "#sk-container-id-1 div.sk-estimator.fitted input.sk-toggleable__control:checked~label.sk-toggleable__label {\n",
              "  /* fitted */\n",
              "  background-color: var(--sklearn-color-fitted-level-2);\n",
              "}\n",
              "\n",
              "#sk-container-id-1 div.sk-label label.sk-toggleable__label,\n",
              "#sk-container-id-1 div.sk-label label {\n",
              "  /* The background is the default theme color */\n",
              "  color: var(--sklearn-color-text-on-default-background);\n",
              "}\n",
              "\n",
              "/* On hover, darken the color of the background */\n",
              "#sk-container-id-1 div.sk-label:hover label.sk-toggleable__label {\n",
              "  color: var(--sklearn-color-text);\n",
              "  background-color: var(--sklearn-color-unfitted-level-2);\n",
              "}\n",
              "\n",
              "/* Label box, darken color on hover, fitted */\n",
              "#sk-container-id-1 div.sk-label.fitted:hover label.sk-toggleable__label.fitted {\n",
              "  color: var(--sklearn-color-text);\n",
              "  background-color: var(--sklearn-color-fitted-level-2);\n",
              "}\n",
              "\n",
              "/* Estimator label */\n",
              "\n",
              "#sk-container-id-1 div.sk-label label {\n",
              "  font-family: monospace;\n",
              "  font-weight: bold;\n",
              "  display: inline-block;\n",
              "  line-height: 1.2em;\n",
              "}\n",
              "\n",
              "#sk-container-id-1 div.sk-label-container {\n",
              "  text-align: center;\n",
              "}\n",
              "\n",
              "/* Estimator-specific */\n",
              "#sk-container-id-1 div.sk-estimator {\n",
              "  font-family: monospace;\n",
              "  border: 1px dotted var(--sklearn-color-border-box);\n",
              "  border-radius: 0.25em;\n",
              "  box-sizing: border-box;\n",
              "  margin-bottom: 0.5em;\n",
              "  /* unfitted */\n",
              "  background-color: var(--sklearn-color-unfitted-level-0);\n",
              "}\n",
              "\n",
              "#sk-container-id-1 div.sk-estimator.fitted {\n",
              "  /* fitted */\n",
              "  background-color: var(--sklearn-color-fitted-level-0);\n",
              "}\n",
              "\n",
              "/* on hover */\n",
              "#sk-container-id-1 div.sk-estimator:hover {\n",
              "  /* unfitted */\n",
              "  background-color: var(--sklearn-color-unfitted-level-2);\n",
              "}\n",
              "\n",
              "#sk-container-id-1 div.sk-estimator.fitted:hover {\n",
              "  /* fitted */\n",
              "  background-color: var(--sklearn-color-fitted-level-2);\n",
              "}\n",
              "\n",
              "/* Specification for estimator info (e.g. \"i\" and \"?\") */\n",
              "\n",
              "/* Common style for \"i\" and \"?\" */\n",
              "\n",
              ".sk-estimator-doc-link,\n",
              "a:link.sk-estimator-doc-link,\n",
              "a:visited.sk-estimator-doc-link {\n",
              "  float: right;\n",
              "  font-size: smaller;\n",
              "  line-height: 1em;\n",
              "  font-family: monospace;\n",
              "  background-color: var(--sklearn-color-background);\n",
              "  border-radius: 1em;\n",
              "  height: 1em;\n",
              "  width: 1em;\n",
              "  text-decoration: none !important;\n",
              "  margin-left: 1ex;\n",
              "  /* unfitted */\n",
              "  border: var(--sklearn-color-unfitted-level-1) 1pt solid;\n",
              "  color: var(--sklearn-color-unfitted-level-1);\n",
              "}\n",
              "\n",
              ".sk-estimator-doc-link.fitted,\n",
              "a:link.sk-estimator-doc-link.fitted,\n",
              "a:visited.sk-estimator-doc-link.fitted {\n",
              "  /* fitted */\n",
              "  border: var(--sklearn-color-fitted-level-1) 1pt solid;\n",
              "  color: var(--sklearn-color-fitted-level-1);\n",
              "}\n",
              "\n",
              "/* On hover */\n",
              "div.sk-estimator:hover .sk-estimator-doc-link:hover,\n",
              ".sk-estimator-doc-link:hover,\n",
              "div.sk-label-container:hover .sk-estimator-doc-link:hover,\n",
              ".sk-estimator-doc-link:hover {\n",
              "  /* unfitted */\n",
              "  background-color: var(--sklearn-color-unfitted-level-3);\n",
              "  color: var(--sklearn-color-background);\n",
              "  text-decoration: none;\n",
              "}\n",
              "\n",
              "div.sk-estimator.fitted:hover .sk-estimator-doc-link.fitted:hover,\n",
              ".sk-estimator-doc-link.fitted:hover,\n",
              "div.sk-label-container:hover .sk-estimator-doc-link.fitted:hover,\n",
              ".sk-estimator-doc-link.fitted:hover {\n",
              "  /* fitted */\n",
              "  background-color: var(--sklearn-color-fitted-level-3);\n",
              "  color: var(--sklearn-color-background);\n",
              "  text-decoration: none;\n",
              "}\n",
              "\n",
              "/* Span, style for the box shown on hovering the info icon */\n",
              ".sk-estimator-doc-link span {\n",
              "  display: none;\n",
              "  z-index: 9999;\n",
              "  position: relative;\n",
              "  font-weight: normal;\n",
              "  right: .2ex;\n",
              "  padding: .5ex;\n",
              "  margin: .5ex;\n",
              "  width: min-content;\n",
              "  min-width: 20ex;\n",
              "  max-width: 50ex;\n",
              "  color: var(--sklearn-color-text);\n",
              "  box-shadow: 2pt 2pt 4pt #999;\n",
              "  /* unfitted */\n",
              "  background: var(--sklearn-color-unfitted-level-0);\n",
              "  border: .5pt solid var(--sklearn-color-unfitted-level-3);\n",
              "}\n",
              "\n",
              ".sk-estimator-doc-link.fitted span {\n",
              "  /* fitted */\n",
              "  background: var(--sklearn-color-fitted-level-0);\n",
              "  border: var(--sklearn-color-fitted-level-3);\n",
              "}\n",
              "\n",
              ".sk-estimator-doc-link:hover span {\n",
              "  display: block;\n",
              "}\n",
              "\n",
              "/* \"?\"-specific style due to the `<a>` HTML tag */\n",
              "\n",
              "#sk-container-id-1 a.estimator_doc_link {\n",
              "  float: right;\n",
              "  font-size: 1rem;\n",
              "  line-height: 1em;\n",
              "  font-family: monospace;\n",
              "  background-color: var(--sklearn-color-background);\n",
              "  border-radius: 1rem;\n",
              "  height: 1rem;\n",
              "  width: 1rem;\n",
              "  text-decoration: none;\n",
              "  /* unfitted */\n",
              "  color: var(--sklearn-color-unfitted-level-1);\n",
              "  border: var(--sklearn-color-unfitted-level-1) 1pt solid;\n",
              "}\n",
              "\n",
              "#sk-container-id-1 a.estimator_doc_link.fitted {\n",
              "  /* fitted */\n",
              "  border: var(--sklearn-color-fitted-level-1) 1pt solid;\n",
              "  color: var(--sklearn-color-fitted-level-1);\n",
              "}\n",
              "\n",
              "/* On hover */\n",
              "#sk-container-id-1 a.estimator_doc_link:hover {\n",
              "  /* unfitted */\n",
              "  background-color: var(--sklearn-color-unfitted-level-3);\n",
              "  color: var(--sklearn-color-background);\n",
              "  text-decoration: none;\n",
              "}\n",
              "\n",
              "#sk-container-id-1 a.estimator_doc_link.fitted:hover {\n",
              "  /* fitted */\n",
              "  background-color: var(--sklearn-color-fitted-level-3);\n",
              "}\n",
              "</style><div id=\"sk-container-id-1\" class=\"sk-top-container\"><div class=\"sk-text-repr-fallback\"><pre>XGBClassifier(base_score=None, booster=None, callbacks=None,\n",
              "              colsample_bylevel=None, colsample_bynode=None,\n",
              "              colsample_bytree=None, device=None, early_stopping_rounds=None,\n",
              "              enable_categorical=False, eval_metric=None, feature_types=None,\n",
              "              gamma=None, grow_policy=None, importance_type=None,\n",
              "              interaction_constraints=None, learning_rate=None, max_bin=None,\n",
              "              max_cat_threshold=None, max_cat_to_onehot=None,\n",
              "              max_delta_step=None, max_depth=None, max_leaves=None,\n",
              "              min_child_weight=None, missing=nan, monotone_constraints=None,\n",
              "              multi_strategy=None, n_estimators=None, n_jobs=None,\n",
              "              num_parallel_tree=None, random_state=42, ...)</pre><b>In a Jupyter environment, please rerun this cell to show the HTML representation or trust the notebook. <br />On GitHub, the HTML representation is unable to render, please try loading this page with nbviewer.org.</b></div><div class=\"sk-container\" hidden><div class=\"sk-item\"><div class=\"sk-estimator fitted sk-toggleable\"><input class=\"sk-toggleable__control sk-hidden--visually\" id=\"sk-estimator-id-1\" type=\"checkbox\" checked><label for=\"sk-estimator-id-1\" class=\"sk-toggleable__label fitted sk-toggleable__label-arrow fitted\">&nbsp;XGBClassifier<span class=\"sk-estimator-doc-link fitted\">i<span>Fitted</span></span></label><div class=\"sk-toggleable__content fitted\"><pre>XGBClassifier(base_score=None, booster=None, callbacks=None,\n",
              "              colsample_bylevel=None, colsample_bynode=None,\n",
              "              colsample_bytree=None, device=None, early_stopping_rounds=None,\n",
              "              enable_categorical=False, eval_metric=None, feature_types=None,\n",
              "              gamma=None, grow_policy=None, importance_type=None,\n",
              "              interaction_constraints=None, learning_rate=None, max_bin=None,\n",
              "              max_cat_threshold=None, max_cat_to_onehot=None,\n",
              "              max_delta_step=None, max_depth=None, max_leaves=None,\n",
              "              min_child_weight=None, missing=nan, monotone_constraints=None,\n",
              "              multi_strategy=None, n_estimators=None, n_jobs=None,\n",
              "              num_parallel_tree=None, random_state=42, ...)</pre></div> </div></div></div></div>"
            ]
          },
          "metadata": {},
          "execution_count": 27
        }
      ]
    },
    {
      "cell_type": "code",
      "source": [
        "# Feature Importance Plot for Non-Optimised XGBoost Model\n",
        "plt.figure(figsize=(10, 6))\n",
        "from xgboost import plot_importance\n",
        "plot_importance(xgb_model_no_features, max_num_features=10)\n",
        "plt.title('Feature Importance for XGBoost Model without ContactHours and AttendancePercentage')\n",
        "plt.show()"
      ],
      "metadata": {
        "colab": {
          "base_uri": "https://localhost:8080/",
          "height": 489
        },
        "id": "nmeXZnbH_QUy",
        "outputId": "d967b41b-f264-434d-cb8e-f4a2f3343f3b"
      },
      "execution_count": null,
      "outputs": [
        {
          "output_type": "display_data",
          "data": {
            "text/plain": [
              "<Figure size 1000x600 with 0 Axes>"
            ]
          },
          "metadata": {}
        },
        {
          "output_type": "display_data",
          "data": {
            "text/plain": [
              "<Figure size 640x480 with 1 Axes>"
            ],
            "image/png": "[encoded data removed]"
          },
          "metadata": {}
        }
      ]
    },
    {
      "cell_type": "markdown",
      "source": [
        "This bar chart ranks features based on their contribution to XGBoost's decision-making:\n",
        "\n",
        "- **UnauthorisedAbsenceCount and CreditWeightedAverage were the strongest predictors** when attendance-related features were excluded.\n",
        "- **Age also played a significant role**, though its impact was smaller than that of academic and absence-related features.\n",
        "- **Lower-ranked features** (e.g., specific universities and gender) had a smaller but still measurable impact.\n",
        "\n",
        "These results confirm that even without attendance data, **unauthorised absences and academic performance are highly relevant to predicting dropout risk**\n",
        "\n",
        "\n"
      ],
      "metadata": {
        "id": "a6X-gnjNMB5s"
      }
    },
    {
      "cell_type": "code",
      "source": [
        "# Performance Metrics for Non-Optimised XGBoost Model\n",
        "y_pred_no_features = xgb_model_no_features.predict(X_test_no_features)\n",
        "print(\"Performance Metrics for Non-Optimised XGBoost Model without ContactHours and AttendancePercentage:\")\n",
        "print(\"Accuracy:\", accuracy_score(y_test, y_pred_no_features))\n",
        "print(\"Confusion Matrix:\\n\", confusion_matrix(y_test, y_pred_no_features))\n",
        "print(\"Precision:\", precision_score(y_test, y_pred_no_features))\n",
        "print(\"Recall:\", recall_score(y_test, y_pred_no_features))\n",
        "print(\"AUC:\", roc_auc_score(y_test, y_pred_no_features))"
      ],
      "metadata": {
        "colab": {
          "base_uri": "https://localhost:8080/"
        },
        "id": "7QQr8SOv_Pve",
        "outputId": "343cb810-52b9-4fe6-a496-55ef91d5d722"
      },
      "execution_count": null,
      "outputs": [
        {
          "output_type": "stream",
          "name": "stdout",
          "text": [
            "Performance Metrics for Non-Optimised XGBoost Model without ContactHours and AttendancePercentage:\n",
            "Accuracy: 0.9501983252534156\n",
            "Confusion Matrix:\n",
            " [[ 258   17]\n",
            " [ 209 4054]]\n",
            "Precision: 0.9958241218373864\n",
            "Recall: 0.950973492845414\n",
            "AUC: 0.9445776555136162\n"
          ]
        }
      ]
    },
    {
      "cell_type": "markdown",
      "source": [
        "- **Accuracy (~0.9502)** suggests the model correctly classifies most students.\n",
        "- **Precision (~0.9958)** indicates almost no false positives among dropout predictions.\n",
        "- **Recall (~0.9510)** is fairly high, but some dropouts might still be missed.\n",
        "- **AUC (~0.9446)** confirms strong overall discrimination.\n",
        "\n",
        "These results are solid for a first attempt but do not leverage attendance-related features. Next, we explore hyperparameter tuning and, later, the impact of adding attendance metrics.\n"
      ],
      "metadata": {
        "id": "1fFgrIgSx46d"
      }
    },
    {
      "cell_type": "markdown",
      "source": [
        "### Hyperparameter Tuning for XGBoost Model\n",
        "\n"
      ],
      "metadata": {
        "id": "E09zDHr9BQiL"
      }
    },
    {
      "cell_type": "markdown",
      "source": [
        "We apply GridSearchCV to adjust:\n",
        "- **Max depth & n_estimators** to regulate model complexity.\n",
        "- **Learning rate** to balance convergence speed and generalisation.\n",
        "- **Scale_pos_weight** to handle class imbalance (i.e., fewer dropouts).\n",
        "\n",
        "The aim is to improve recall while maintaining XGBoost’s high precision.\n"
      ],
      "metadata": {
        "id": "OuSOzG4byFIg"
      }
    },
    {
      "cell_type": "code",
      "source": [
        "# Hyperparameter Tuning for XGBoost Model\n",
        "param_grid = {\n",
        "    'learning_rate': [0.01, 0.1, 0.2],\n",
        "    'max_depth': [3, 5, 7],\n",
        "    'n_estimators': [50, 100, 200]\n",
        "}\n",
        "\n",
        "xgb_model_no_features_optimised = xgb.XGBClassifier(scale_pos_weight=(y_train.value_counts()[0] / y_train.value_counts()[1]), random_state=42)\n",
        "grid_search_no_features = GridSearchCV(estimator=xgb_model_no_features_optimised, param_grid=param_grid, scoring='roc_auc', cv=3, verbose=2, n_jobs=-1)\n",
        "grid_search_no_features.fit(X_train_no_features, y_train)"
      ],
      "metadata": {
        "colab": {
          "base_uri": "https://localhost:8080/",
          "height": 151
        },
        "id": "nwL7d3GT_PSW",
        "outputId": "3fc7d0c6-f278-4a77-e45c-b96bb75df05e"
      },
      "execution_count": null,
      "outputs": [
        {
          "output_type": "stream",
          "name": "stdout",
          "text": [
            "Fitting 3 folds for each of 27 candidates, totalling 81 fits\n"
          ]
        },
        {
          "output_type": "execute_result",
          "data": {
            "text/plain": [
              "GridSearchCV(cv=3,\n",
              "             estimator=XGBClassifier(base_score=None, booster=None,\n",
              "                                     callbacks=None, colsample_bylevel=None,\n",
              "                                     colsample_bynode=None,\n",
              "                                     colsample_bytree=None, device=None,\n",
              "                                     early_stopping_rounds=None,\n",
              "                                     enable_categorical=False, eval_metric=None,\n",
              "                                     feature_types=None, gamma=None,\n",
              "                                     grow_policy=None, importance_type=None,\n",
              "                                     interaction_constraints=None,\n",
              "                                     learning_rate=None,...\n",
              "                                     max_cat_to_onehot=None,\n",
              "                                     max_delta_step=None, max_depth=None,\n",
              "                                     max_leaves=None, min_child_weight=None,\n",
              "                                     missing=nan, monotone_constraints=None,\n",
              "                                     multi_strategy=None, n_estimators=None,\n",
              "                                     n_jobs=None, num_parallel_tree=None,\n",
              "                                     random_state=42, ...),\n",
              "             n_jobs=-1,\n",
              "             param_grid={'learning_rate': [0.01, 0.1, 0.2],\n",
              "                         'max_depth': [3, 5, 7],\n",
              "                         'n_estimators': [50, 100, 200]},\n",
              "             scoring='roc_auc', verbose=2)"
            ],
            "text/html": [
              "<style>#sk-container-id-2 {\n",
              "  /* Definition of color scheme common for light and dark mode */\n",
              "  --sklearn-color-text: black;\n",
              "  --sklearn-color-line: gray;\n",
              "  /* Definition of color scheme for unfitted estimators */\n",
              "  --sklearn-color-unfitted-level-0: #fff5e6;\n",
              "  --sklearn-color-unfitted-level-1: #f6e4d2;\n",
              "  --sklearn-color-unfitted-level-2: #ffe0b3;\n",
              "  --sklearn-color-unfitted-level-3: chocolate;\n",
              "  /* Definition of color scheme for fitted estimators */\n",
              "  --sklearn-color-fitted-level-0: #f0f8ff;\n",
              "  --sklearn-color-fitted-level-1: #d4ebff;\n",
              "  --sklearn-color-fitted-level-2: #b3dbfd;\n",
              "  --sklearn-color-fitted-level-3: cornflowerblue;\n",
              "\n",
              "  /* Specific color for light theme */\n",
              "  --sklearn-color-text-on-default-background: var(--sg-text-color, var(--theme-code-foreground, var(--jp-content-font-color1, black)));\n",
              "  --sklearn-color-background: var(--sg-background-color, var(--theme-background, var(--jp-layout-color0, white)));\n",
              "  --sklearn-color-border-box: var(--sg-text-color, var(--theme-code-foreground, var(--jp-content-font-color1, black)));\n",
              "  --sklearn-color-icon: #696969;\n",
              "\n",
              "  @media (prefers-color-scheme: dark) {\n",
              "    /* Redefinition of color scheme for dark theme */\n",
              "    --sklearn-color-text-on-default-background: var(--sg-text-color, var(--theme-code-foreground, var(--jp-content-font-color1, white)));\n",
              "    --sklearn-color-background: var(--sg-background-color, var(--theme-background, var(--jp-layout-color0, #111)));\n",
              "    --sklearn-color-border-box: var(--sg-text-color, var(--theme-code-foreground, var(--jp-content-font-color1, white)));\n",
              "    --sklearn-color-icon: #878787;\n",
              "  }\n",
              "}\n",
              "\n",
              "#sk-container-id-2 {\n",
              "  color: var(--sklearn-color-text);\n",
              "}\n",
              "\n",
              "#sk-container-id-2 pre {\n",
              "  padding: 0;\n",
              "}\n",
              "\n",
              "#sk-container-id-2 input.sk-hidden--visually {\n",
              "  border: 0;\n",
              "  clip: rect(1px 1px 1px 1px);\n",
              "  clip: rect(1px, 1px, 1px, 1px);\n",
              "  height: 1px;\n",
              "  margin: -1px;\n",
              "  overflow: hidden;\n",
              "  padding: 0;\n",
              "  position: absolute;\n",
              "  width: 1px;\n",
              "}\n",
              "\n",
              "#sk-container-id-2 div.sk-dashed-wrapped {\n",
              "  border: 1px dashed var(--sklearn-color-line);\n",
              "  margin: 0 0.4em 0.5em 0.4em;\n",
              "  box-sizing: border-box;\n",
              "  padding-bottom: 0.4em;\n",
              "  background-color: var(--sklearn-color-background);\n",
              "}\n",
              "\n",
              "#sk-container-id-2 div.sk-container {\n",
              "  /* jupyter's `normalize.less` sets `[hidden] { display: none; }`\n",
              "     but bootstrap.min.css set `[hidden] { display: none !important; }`\n",
              "     so we also need the `!important` here to be able to override the\n",
              "     default hidden behavior on the sphinx rendered scikit-learn.org.\n",
              "     See: https://github.com/scikit-learn/scikit-learn/issues/21755 */\n",
              "  display: inline-block !important;\n",
              "  position: relative;\n",
              "}\n",
              "\n",
              "#sk-container-id-2 div.sk-text-repr-fallback {\n",
              "  display: none;\n",
              "}\n",
              "\n",
              "div.sk-parallel-item,\n",
              "div.sk-serial,\n",
              "div.sk-item {\n",
              "  /* draw centered vertical line to link estimators */\n",
              "  background-image: linear-gradient(var(--sklearn-color-text-on-default-background), var(--sklearn-color-text-on-default-background));\n",
              "  background-size: 2px 100%;\n",
              "  background-repeat: no-repeat;\n",
              "  background-position: center center;\n",
              "}\n",
              "\n",
              "/* Parallel-specific style estimator block */\n",
              "\n",
              "#sk-container-id-2 div.sk-parallel-item::after {\n",
              "  content: \"\";\n",
              "  width: 100%;\n",
              "  border-bottom: 2px solid var(--sklearn-color-text-on-default-background);\n",
              "  flex-grow: 1;\n",
              "}\n",
              "\n",
              "#sk-container-id-2 div.sk-parallel {\n",
              "  display: flex;\n",
              "  align-items: stretch;\n",
              "  justify-content: center;\n",
              "  background-color: var(--sklearn-color-background);\n",
              "  position: relative;\n",
              "}\n",
              "\n",
              "#sk-container-id-2 div.sk-parallel-item {\n",
              "  display: flex;\n",
              "  flex-direction: column;\n",
              "}\n",
              "\n",
              "#sk-container-id-2 div.sk-parallel-item:first-child::after {\n",
              "  align-self: flex-end;\n",
              "  width: 50%;\n",
              "}\n",
              "\n",
              "#sk-container-id-2 div.sk-parallel-item:last-child::after {\n",
              "  align-self: flex-start;\n",
              "  width: 50%;\n",
              "}\n",
              "\n",
              "#sk-container-id-2 div.sk-parallel-item:only-child::after {\n",
              "  width: 0;\n",
              "}\n",
              "\n",
              "/* Serial-specific style estimator block */\n",
              "\n",
              "#sk-container-id-2 div.sk-serial {\n",
              "  display: flex;\n",
              "  flex-direction: column;\n",
              "  align-items: center;\n",
              "  background-color: var(--sklearn-color-background);\n",
              "  padding-right: 1em;\n",
              "  padding-left: 1em;\n",
              "}\n",
              "\n",
              "\n",
              "/* Toggleable style: style used for estimator/Pipeline/ColumnTransformer box that is\n",
              "clickable and can be expanded/collapsed.\n",
              "- Pipeline and ColumnTransformer use this feature and define the default style\n",
              "- Estimators will overwrite some part of the style using the `sk-estimator` class\n",
              "*/\n",
              "\n",
              "/* Pipeline and ColumnTransformer style (default) */\n",
              "\n",
              "#sk-container-id-2 div.sk-toggleable {\n",
              "  /* Default theme specific background. It is overwritten whether we have a\n",
              "  specific estimator or a Pipeline/ColumnTransformer */\n",
              "  background-color: var(--sklearn-color-background);\n",
              "}\n",
              "\n",
              "/* Toggleable label */\n",
              "#sk-container-id-2 label.sk-toggleable__label {\n",
              "  cursor: pointer;\n",
              "  display: block;\n",
              "  width: 100%;\n",
              "  margin-bottom: 0;\n",
              "  padding: 0.5em;\n",
              "  box-sizing: border-box;\n",
              "  text-align: center;\n",
              "}\n",
              "\n",
              "#sk-container-id-2 label.sk-toggleable__label-arrow:before {\n",
              "  /* Arrow on the left of the label */\n",
              "  content: \"▸\";\n",
              "  float: left;\n",
              "  margin-right: 0.25em;\n",
              "  color: var(--sklearn-color-icon);\n",
              "}\n",
              "\n",
              "#sk-container-id-2 label.sk-toggleable__label-arrow:hover:before {\n",
              "  color: var(--sklearn-color-text);\n",
              "}\n",
              "\n",
              "/* Toggleable content - dropdown */\n",
              "\n",
              "#sk-container-id-2 div.sk-toggleable__content {\n",
              "  max-height: 0;\n",
              "  max-width: 0;\n",
              "  overflow: hidden;\n",
              "  text-align: left;\n",
              "  /* unfitted */\n",
              "  background-color: var(--sklearn-color-unfitted-level-0);\n",
              "}\n",
              "\n",
              "#sk-container-id-2 div.sk-toggleable__content.fitted {\n",
              "  /* fitted */\n",
              "  background-color: var(--sklearn-color-fitted-level-0);\n",
              "}\n",
              "\n",
              "#sk-container-id-2 div.sk-toggleable__content pre {\n",
              "  margin: 0.2em;\n",
              "  border-radius: 0.25em;\n",
              "  color: var(--sklearn-color-text);\n",
              "  /* unfitted */\n",
              "  background-color: var(--sklearn-color-unfitted-level-0);\n",
              "}\n",
              "\n",
              "#sk-container-id-2 div.sk-toggleable__content.fitted pre {\n",
              "  /* unfitted */\n",
              "  background-color: var(--sklearn-color-fitted-level-0);\n",
              "}\n",
              "\n",
              "#sk-container-id-2 input.sk-toggleable__control:checked~div.sk-toggleable__content {\n",
              "  /* Expand drop-down */\n",
              "  max-height: 200px;\n",
              "  max-width: 100%;\n",
              "  overflow: auto;\n",
              "}\n",
              "\n",
              "#sk-container-id-2 input.sk-toggleable__control:checked~label.sk-toggleable__label-arrow:before {\n",
              "  content: \"▾\";\n",
              "}\n",
              "\n",
              "/* Pipeline/ColumnTransformer-specific style */\n",
              "\n",
              "#sk-container-id-2 div.sk-label input.sk-toggleable__control:checked~label.sk-toggleable__label {\n",
              "  color: var(--sklearn-color-text);\n",
              "  background-color: var(--sklearn-color-unfitted-level-2);\n",
              "}\n",
              "\n",
              "#sk-container-id-2 div.sk-label.fitted input.sk-toggleable__control:checked~label.sk-toggleable__label {\n",
              "  background-color: var(--sklearn-color-fitted-level-2);\n",
              "}\n",
              "\n",
              "/* Estimator-specific style */\n",
              "\n",
              "/* Colorize estimator box */\n",
              "#sk-container-id-2 div.sk-estimator input.sk-toggleable__control:checked~label.sk-toggleable__label {\n",
              "  /* unfitted */\n",
              "  background-color: var(--sklearn-color-unfitted-level-2);\n",
              "}\n",
              "\n",
              "#sk-container-id-2 div.sk-estimator.fitted input.sk-toggleable__control:checked~label.sk-toggleable__label {\n",
              "  /* fitted */\n",
              "  background-color: var(--sklearn-color-fitted-level-2);\n",
              "}\n",
              "\n",
              "#sk-container-id-2 div.sk-label label.sk-toggleable__label,\n",
              "#sk-container-id-2 div.sk-label label {\n",
              "  /* The background is the default theme color */\n",
              "  color: var(--sklearn-color-text-on-default-background);\n",
              "}\n",
              "\n",
              "/* On hover, darken the color of the background */\n",
              "#sk-container-id-2 div.sk-label:hover label.sk-toggleable__label {\n",
              "  color: var(--sklearn-color-text);\n",
              "  background-color: var(--sklearn-color-unfitted-level-2);\n",
              "}\n",
              "\n",
              "/* Label box, darken color on hover, fitted */\n",
              "#sk-container-id-2 div.sk-label.fitted:hover label.sk-toggleable__label.fitted {\n",
              "  color: var(--sklearn-color-text);\n",
              "  background-color: var(--sklearn-color-fitted-level-2);\n",
              "}\n",
              "\n",
              "/* Estimator label */\n",
              "\n",
              "#sk-container-id-2 div.sk-label label {\n",
              "  font-family: monospace;\n",
              "  font-weight: bold;\n",
              "  display: inline-block;\n",
              "  line-height: 1.2em;\n",
              "}\n",
              "\n",
              "#sk-container-id-2 div.sk-label-container {\n",
              "  text-align: center;\n",
              "}\n",
              "\n",
              "/* Estimator-specific */\n",
              "#sk-container-id-2 div.sk-estimator {\n",
              "  font-family: monospace;\n",
              "  border: 1px dotted var(--sklearn-color-border-box);\n",
              "  border-radius: 0.25em;\n",
              "  box-sizing: border-box;\n",
              "  margin-bottom: 0.5em;\n",
              "  /* unfitted */\n",
              "  background-color: var(--sklearn-color-unfitted-level-0);\n",
              "}\n",
              "\n",
              "#sk-container-id-2 div.sk-estimator.fitted {\n",
              "  /* fitted */\n",
              "  background-color: var(--sklearn-color-fitted-level-0);\n",
              "}\n",
              "\n",
              "/* on hover */\n",
              "#sk-container-id-2 div.sk-estimator:hover {\n",
              "  /* unfitted */\n",
              "  background-color: var(--sklearn-color-unfitted-level-2);\n",
              "}\n",
              "\n",
              "#sk-container-id-2 div.sk-estimator.fitted:hover {\n",
              "  /* fitted */\n",
              "  background-color: var(--sklearn-color-fitted-level-2);\n",
              "}\n",
              "\n",
              "/* Specification for estimator info (e.g. \"i\" and \"?\") */\n",
              "\n",
              "/* Common style for \"i\" and \"?\" */\n",
              "\n",
              ".sk-estimator-doc-link,\n",
              "a:link.sk-estimator-doc-link,\n",
              "a:visited.sk-estimator-doc-link {\n",
              "  float: right;\n",
              "  font-size: smaller;\n",
              "  line-height: 1em;\n",
              "  font-family: monospace;\n",
              "  background-color: var(--sklearn-color-background);\n",
              "  border-radius: 1em;\n",
              "  height: 1em;\n",
              "  width: 1em;\n",
              "  text-decoration: none !important;\n",
              "  margin-left: 1ex;\n",
              "  /* unfitted */\n",
              "  border: var(--sklearn-color-unfitted-level-1) 1pt solid;\n",
              "  color: var(--sklearn-color-unfitted-level-1);\n",
              "}\n",
              "\n",
              ".sk-estimator-doc-link.fitted,\n",
              "a:link.sk-estimator-doc-link.fitted,\n",
              "a:visited.sk-estimator-doc-link.fitted {\n",
              "  /* fitted */\n",
              "  border: var(--sklearn-color-fitted-level-1) 1pt solid;\n",
              "  color: var(--sklearn-color-fitted-level-1);\n",
              "}\n",
              "\n",
              "/* On hover */\n",
              "div.sk-estimator:hover .sk-estimator-doc-link:hover,\n",
              ".sk-estimator-doc-link:hover,\n",
              "div.sk-label-container:hover .sk-estimator-doc-link:hover,\n",
              ".sk-estimator-doc-link:hover {\n",
              "  /* unfitted */\n",
              "  background-color: var(--sklearn-color-unfitted-level-3);\n",
              "  color: var(--sklearn-color-background);\n",
              "  text-decoration: none;\n",
              "}\n",
              "\n",
              "div.sk-estimator.fitted:hover .sk-estimator-doc-link.fitted:hover,\n",
              ".sk-estimator-doc-link.fitted:hover,\n",
              "div.sk-label-container:hover .sk-estimator-doc-link.fitted:hover,\n",
              ".sk-estimator-doc-link.fitted:hover {\n",
              "  /* fitted */\n",
              "  background-color: var(--sklearn-color-fitted-level-3);\n",
              "  color: var(--sklearn-color-background);\n",
              "  text-decoration: none;\n",
              "}\n",
              "\n",
              "/* Span, style for the box shown on hovering the info icon */\n",
              ".sk-estimator-doc-link span {\n",
              "  display: none;\n",
              "  z-index: 9999;\n",
              "  position: relative;\n",
              "  font-weight: normal;\n",
              "  right: .2ex;\n",
              "  padding: .5ex;\n",
              "  margin: .5ex;\n",
              "  width: min-content;\n",
              "  min-width: 20ex;\n",
              "  max-width: 50ex;\n",
              "  color: var(--sklearn-color-text);\n",
              "  box-shadow: 2pt 2pt 4pt #999;\n",
              "  /* unfitted */\n",
              "  background: var(--sklearn-color-unfitted-level-0);\n",
              "  border: .5pt solid var(--sklearn-color-unfitted-level-3);\n",
              "}\n",
              "\n",
              ".sk-estimator-doc-link.fitted span {\n",
              "  /* fitted */\n",
              "  background: var(--sklearn-color-fitted-level-0);\n",
              "  border: var(--sklearn-color-fitted-level-3);\n",
              "}\n",
              "\n",
              ".sk-estimator-doc-link:hover span {\n",
              "  display: block;\n",
              "}\n",
              "\n",
              "/* \"?\"-specific style due to the `<a>` HTML tag */\n",
              "\n",
              "#sk-container-id-2 a.estimator_doc_link {\n",
              "  float: right;\n",
              "  font-size: 1rem;\n",
              "  line-height: 1em;\n",
              "  font-family: monospace;\n",
              "  background-color: var(--sklearn-color-background);\n",
              "  border-radius: 1rem;\n",
              "  height: 1rem;\n",
              "  width: 1rem;\n",
              "  text-decoration: none;\n",
              "  /* unfitted */\n",
              "  color: var(--sklearn-color-unfitted-level-1);\n",
              "  border: var(--sklearn-color-unfitted-level-1) 1pt solid;\n",
              "}\n",
              "\n",
              "#sk-container-id-2 a.estimator_doc_link.fitted {\n",
              "  /* fitted */\n",
              "  border: var(--sklearn-color-fitted-level-1) 1pt solid;\n",
              "  color: var(--sklearn-color-fitted-level-1);\n",
              "}\n",
              "\n",
              "/* On hover */\n",
              "#sk-container-id-2 a.estimator_doc_link:hover {\n",
              "  /* unfitted */\n",
              "  background-color: var(--sklearn-color-unfitted-level-3);\n",
              "  color: var(--sklearn-color-background);\n",
              "  text-decoration: none;\n",
              "}\n",
              "\n",
              "#sk-container-id-2 a.estimator_doc_link.fitted:hover {\n",
              "  /* fitted */\n",
              "  background-color: var(--sklearn-color-fitted-level-3);\n",
              "}\n",
              "</style><div id=\"sk-container-id-2\" class=\"sk-top-container\"><div class=\"sk-text-repr-fallback\"><pre>GridSearchCV(cv=3,\n",
              "             estimator=XGBClassifier(base_score=None, booster=None,\n",
              "                                     callbacks=None, colsample_bylevel=None,\n",
              "                                     colsample_bynode=None,\n",
              "                                     colsample_bytree=None, device=None,\n",
              "                                     early_stopping_rounds=None,\n",
              "                                     enable_categorical=False, eval_metric=None,\n",
              "                                     feature_types=None, gamma=None,\n",
              "                                     grow_policy=None, importance_type=None,\n",
              "                                     interaction_constraints=None,\n",
              "                                     learning_rate=None,...\n",
              "                                     max_cat_to_onehot=None,\n",
              "                                     max_delta_step=None, max_depth=None,\n",
              "                                     max_leaves=None, min_child_weight=None,\n",
              "                                     missing=nan, monotone_constraints=None,\n",
              "                                     multi_strategy=None, n_estimators=None,\n",
              "                                     n_jobs=None, num_parallel_tree=None,\n",
              "                                     random_state=42, ...),\n",
              "             n_jobs=-1,\n",
              "             param_grid={&#x27;learning_rate&#x27;: [0.01, 0.1, 0.2],\n",
              "                         &#x27;max_depth&#x27;: [3, 5, 7],\n",
              "                         &#x27;n_estimators&#x27;: [50, 100, 200]},\n",
              "             scoring=&#x27;roc_auc&#x27;, verbose=2)</pre><b>In a Jupyter environment, please rerun this cell to show the HTML representation or trust the notebook. <br />On GitHub, the HTML representation is unable to render, please try loading this page with nbviewer.org.</b></div><div class=\"sk-container\" hidden><div class=\"sk-item sk-dashed-wrapped\"><div class=\"sk-label-container\"><div class=\"sk-label fitted sk-toggleable\"><input class=\"sk-toggleable__control sk-hidden--visually\" id=\"sk-estimator-id-2\" type=\"checkbox\" ><label for=\"sk-estimator-id-2\" class=\"sk-toggleable__label fitted sk-toggleable__label-arrow fitted\">&nbsp;&nbsp;GridSearchCV<a class=\"sk-estimator-doc-link fitted\" rel=\"noreferrer\" target=\"_blank\" href=\"https://scikit-learn.org/1.5/modules/generated/sklearn.model_selection.GridSearchCV.html\">?<span>Documentation for GridSearchCV</span></a><span class=\"sk-estimator-doc-link fitted\">i<span>Fitted</span></span></label><div class=\"sk-toggleable__content fitted\"><pre>GridSearchCV(cv=3,\n",
              "             estimator=XGBClassifier(base_score=None, booster=None,\n",
              "                                     callbacks=None, colsample_bylevel=None,\n",
              "                                     colsample_bynode=None,\n",
              "                                     colsample_bytree=None, device=None,\n",
              "                                     early_stopping_rounds=None,\n",
              "                                     enable_categorical=False, eval_metric=None,\n",
              "                                     feature_types=None, gamma=None,\n",
              "                                     grow_policy=None, importance_type=None,\n",
              "                                     interaction_constraints=None,\n",
              "                                     learning_rate=None,...\n",
              "                                     max_cat_to_onehot=None,\n",
              "                                     max_delta_step=None, max_depth=None,\n",
              "                                     max_leaves=None, min_child_weight=None,\n",
              "                                     missing=nan, monotone_constraints=None,\n",
              "                                     multi_strategy=None, n_estimators=None,\n",
              "                                     n_jobs=None, num_parallel_tree=None,\n",
              "                                     random_state=42, ...),\n",
              "             n_jobs=-1,\n",
              "             param_grid={&#x27;learning_rate&#x27;: [0.01, 0.1, 0.2],\n",
              "                         &#x27;max_depth&#x27;: [3, 5, 7],\n",
              "                         &#x27;n_estimators&#x27;: [50, 100, 200]},\n",
              "             scoring=&#x27;roc_auc&#x27;, verbose=2)</pre></div> </div></div><div class=\"sk-parallel\"><div class=\"sk-parallel-item\"><div class=\"sk-item\"><div class=\"sk-label-container\"><div class=\"sk-label fitted sk-toggleable\"><input class=\"sk-toggleable__control sk-hidden--visually\" id=\"sk-estimator-id-3\" type=\"checkbox\" ><label for=\"sk-estimator-id-3\" class=\"sk-toggleable__label fitted sk-toggleable__label-arrow fitted\">best_estimator_: XGBClassifier</label><div class=\"sk-toggleable__content fitted\"><pre>XGBClassifier(base_score=None, booster=None, callbacks=None,\n",
              "              colsample_bylevel=None, colsample_bynode=None,\n",
              "              colsample_bytree=None, device=None, early_stopping_rounds=None,\n",
              "              enable_categorical=False, eval_metric=None, feature_types=None,\n",
              "              gamma=None, grow_policy=None, importance_type=None,\n",
              "              interaction_constraints=None, learning_rate=0.2, max_bin=None,\n",
              "              max_cat_threshold=None, max_cat_to_onehot=None,\n",
              "              max_delta_step=None, max_depth=7, max_leaves=None,\n",
              "              min_child_weight=None, missing=nan, monotone_constraints=None,\n",
              "              multi_strategy=None, n_estimators=50, n_jobs=None,\n",
              "              num_parallel_tree=None, random_state=42, ...)</pre></div> </div></div><div class=\"sk-serial\"><div class=\"sk-item\"><div class=\"sk-estimator fitted sk-toggleable\"><input class=\"sk-toggleable__control sk-hidden--visually\" id=\"sk-estimator-id-4\" type=\"checkbox\" ><label for=\"sk-estimator-id-4\" class=\"sk-toggleable__label fitted sk-toggleable__label-arrow fitted\">XGBClassifier</label><div class=\"sk-toggleable__content fitted\"><pre>XGBClassifier(base_score=None, booster=None, callbacks=None,\n",
              "              colsample_bylevel=None, colsample_bynode=None,\n",
              "              colsample_bytree=None, device=None, early_stopping_rounds=None,\n",
              "              enable_categorical=False, eval_metric=None, feature_types=None,\n",
              "              gamma=None, grow_policy=None, importance_type=None,\n",
              "              interaction_constraints=None, learning_rate=0.2, max_bin=None,\n",
              "              max_cat_threshold=None, max_cat_to_onehot=None,\n",
              "              max_delta_step=None, max_depth=7, max_leaves=None,\n",
              "              min_child_weight=None, missing=nan, monotone_constraints=None,\n",
              "              multi_strategy=None, n_estimators=50, n_jobs=None,\n",
              "              num_parallel_tree=None, random_state=42, ...)</pre></div> </div></div></div></div></div></div></div></div></div>"
            ]
          },
          "metadata": {},
          "execution_count": 30
        }
      ]
    },
    {
      "cell_type": "code",
      "source": [
        "# Best model from GridSearchCV\n",
        "best_xgb_model_no_features = grid_search_no_features.best_estimator_"
      ],
      "metadata": {
        "id": "4yQpY_xa_Ozn"
      },
      "execution_count": null,
      "outputs": []
    },
    {
      "cell_type": "markdown",
      "source": [
        "### Optimised XGBoost Model\n",
        "\n"
      ],
      "metadata": {
        "id": "R1C2mdL0FV8e"
      }
    },
    {
      "cell_type": "code",
      "source": [
        "# Performance Metrics for Optimised XGBoost Model without 'ContactHours' and 'AttendancePercentage'\n",
        "y_pred_optimised_no_features = best_xgb_model_no_features.predict(X_test_no_features)\n",
        "print(\"Performance Metrics for Optimised XGBoost Model without ContactHours and AttendancePercentage:\")\n",
        "print(\"Accuracy:\", accuracy_score(y_test, y_pred_optimised_no_features))\n",
        "print(\"Confusion Matrix:\\n\", confusion_matrix(y_test, y_pred_optimised_no_features))\n",
        "print(\"Precision:\", precision_score(y_test, y_pred_optimised_no_features))\n",
        "print(\"Recall:\", recall_score(y_test, y_pred_optimised_no_features))\n",
        "print(\"AUC:\", roc_auc_score(y_test, y_pred_optimised_no_features))"
      ],
      "metadata": {
        "colab": {
          "base_uri": "https://localhost:8080/"
        },
        "id": "Uv5SS1m1_Mo3",
        "outputId": "910d2b41-940d-4c6c-8641-c67efb836993"
      },
      "execution_count": null,
      "outputs": [
        {
          "output_type": "stream",
          "name": "stdout",
          "text": [
            "Performance Metrics for Optimised XGBoost Model without ContactHours and AttendancePercentage:\n",
            "Accuracy: 0.9400617011899515\n",
            "Confusion Matrix:\n",
            " [[ 261   14]\n",
            " [ 258 4005]]\n",
            "Precision: 0.9965165464045782\n",
            "Recall: 0.9394792399718508\n",
            "AUC: 0.94428507453138\n"
          ]
        }
      ]
    },
    {
      "cell_type": "markdown",
      "source": [
        "Although precision remains outstanding (\\~0.9965), the **recall (~0.9395) did not improve as much as expected**. Accuracy (~0.9401) also dipped slightly. This suggests that without attendance metrics, XGBoost struggles to capture certain at-risk students, reinforcing the need to incorporate engagement-related features.\n"
      ],
      "metadata": {
        "id": "bZtyARoWyb0u"
      }
    },
    {
      "cell_type": "markdown",
      "source": [
        "We now **include ContactHours and AttendancePercentage**, which directly measure student engagement. Feature importance will be re-evaluated to quantify the effect of these additional predictors.\n"
      ],
      "metadata": {
        "id": "V0_ec0hwytZK"
      }
    },
    {
      "cell_type": "code",
      "source": [
        "# Instantiating and Fitting Optimised XGBoost Model with Additional Features\n",
        "best_xgb_model_with_features = grid_search_no_features.best_estimator_\n",
        "best_xgb_model_with_features.fit(X_train, y_train)"
      ],
      "metadata": {
        "colab": {
          "base_uri": "https://localhost:8080/",
          "height": 250
        },
        "id": "KhtdBqw5_LuX",
        "outputId": "0abf889a-7131-47b5-b36c-154bad593329"
      },
      "execution_count": null,
      "outputs": [
        {
          "output_type": "execute_result",
          "data": {
            "text/plain": [
              "XGBClassifier(base_score=None, booster=None, callbacks=None,\n",
              "              colsample_bylevel=None, colsample_bynode=None,\n",
              "              colsample_bytree=None, device=None, early_stopping_rounds=None,\n",
              "              enable_categorical=False, eval_metric=None, feature_types=None,\n",
              "              gamma=None, grow_policy=None, importance_type=None,\n",
              "              interaction_constraints=None, learning_rate=0.2, max_bin=None,\n",
              "              max_cat_threshold=None, max_cat_to_onehot=None,\n",
              "              max_delta_step=None, max_depth=7, max_leaves=None,\n",
              "              min_child_weight=None, missing=nan, monotone_constraints=None,\n",
              "              multi_strategy=None, n_estimators=50, n_jobs=None,\n",
              "              num_parallel_tree=None, random_state=42, ...)"
            ],
            "text/html": [
              "<style>#sk-container-id-3 {\n",
              "  /* Definition of color scheme common for light and dark mode */\n",
              "  --sklearn-color-text: black;\n",
              "  --sklearn-color-line: gray;\n",
              "  /* Definition of color scheme for unfitted estimators */\n",
              "  --sklearn-color-unfitted-level-0: #fff5e6;\n",
              "  --sklearn-color-unfitted-level-1: #f6e4d2;\n",
              "  --sklearn-color-unfitted-level-2: #ffe0b3;\n",
              "  --sklearn-color-unfitted-level-3: chocolate;\n",
              "  /* Definition of color scheme for fitted estimators */\n",
              "  --sklearn-color-fitted-level-0: #f0f8ff;\n",
              "  --sklearn-color-fitted-level-1: #d4ebff;\n",
              "  --sklearn-color-fitted-level-2: #b3dbfd;\n",
              "  --sklearn-color-fitted-level-3: cornflowerblue;\n",
              "\n",
              "  /* Specific color for light theme */\n",
              "  --sklearn-color-text-on-default-background: var(--sg-text-color, var(--theme-code-foreground, var(--jp-content-font-color1, black)));\n",
              "  --sklearn-color-background: var(--sg-background-color, var(--theme-background, var(--jp-layout-color0, white)));\n",
              "  --sklearn-color-border-box: var(--sg-text-color, var(--theme-code-foreground, var(--jp-content-font-color1, black)));\n",
              "  --sklearn-color-icon: #696969;\n",
              "\n",
              "  @media (prefers-color-scheme: dark) {\n",
              "    /* Redefinition of color scheme for dark theme */\n",
              "    --sklearn-color-text-on-default-background: var(--sg-text-color, var(--theme-code-foreground, var(--jp-content-font-color1, white)));\n",
              "    --sklearn-color-background: var(--sg-background-color, var(--theme-background, var(--jp-layout-color0, #111)));\n",
              "    --sklearn-color-border-box: var(--sg-text-color, var(--theme-code-foreground, var(--jp-content-font-color1, white)));\n",
              "    --sklearn-color-icon: #878787;\n",
              "  }\n",
              "}\n",
              "\n",
              "#sk-container-id-3 {\n",
              "  color: var(--sklearn-color-text);\n",
              "}\n",
              "\n",
              "#sk-container-id-3 pre {\n",
              "  padding: 0;\n",
              "}\n",
              "\n",
              "#sk-container-id-3 input.sk-hidden--visually {\n",
              "  border: 0;\n",
              "  clip: rect(1px 1px 1px 1px);\n",
              "  clip: rect(1px, 1px, 1px, 1px);\n",
              "  height: 1px;\n",
              "  margin: -1px;\n",
              "  overflow: hidden;\n",
              "  padding: 0;\n",
              "  position: absolute;\n",
              "  width: 1px;\n",
              "}\n",
              "\n",
              "#sk-container-id-3 div.sk-dashed-wrapped {\n",
              "  border: 1px dashed var(--sklearn-color-line);\n",
              "  margin: 0 0.4em 0.5em 0.4em;\n",
              "  box-sizing: border-box;\n",
              "  padding-bottom: 0.4em;\n",
              "  background-color: var(--sklearn-color-background);\n",
              "}\n",
              "\n",
              "#sk-container-id-3 div.sk-container {\n",
              "  /* jupyter's `normalize.less` sets `[hidden] { display: none; }`\n",
              "     but bootstrap.min.css set `[hidden] { display: none !important; }`\n",
              "     so we also need the `!important` here to be able to override the\n",
              "     default hidden behavior on the sphinx rendered scikit-learn.org.\n",
              "     See: https://github.com/scikit-learn/scikit-learn/issues/21755 */\n",
              "  display: inline-block !important;\n",
              "  position: relative;\n",
              "}\n",
              "\n",
              "#sk-container-id-3 div.sk-text-repr-fallback {\n",
              "  display: none;\n",
              "}\n",
              "\n",
              "div.sk-parallel-item,\n",
              "div.sk-serial,\n",
              "div.sk-item {\n",
              "  /* draw centered vertical line to link estimators */\n",
              "  background-image: linear-gradient(var(--sklearn-color-text-on-default-background), var(--sklearn-color-text-on-default-background));\n",
              "  background-size: 2px 100%;\n",
              "  background-repeat: no-repeat;\n",
              "  background-position: center center;\n",
              "}\n",
              "\n",
              "/* Parallel-specific style estimator block */\n",
              "\n",
              "#sk-container-id-3 div.sk-parallel-item::after {\n",
              "  content: \"\";\n",
              "  width: 100%;\n",
              "  border-bottom: 2px solid var(--sklearn-color-text-on-default-background);\n",
              "  flex-grow: 1;\n",
              "}\n",
              "\n",
              "#sk-container-id-3 div.sk-parallel {\n",
              "  display: flex;\n",
              "  align-items: stretch;\n",
              "  justify-content: center;\n",
              "  background-color: var(--sklearn-color-background);\n",
              "  position: relative;\n",
              "}\n",
              "\n",
              "#sk-container-id-3 div.sk-parallel-item {\n",
              "  display: flex;\n",
              "  flex-direction: column;\n",
              "}\n",
              "\n",
              "#sk-container-id-3 div.sk-parallel-item:first-child::after {\n",
              "  align-self: flex-end;\n",
              "  width: 50%;\n",
              "}\n",
              "\n",
              "#sk-container-id-3 div.sk-parallel-item:last-child::after {\n",
              "  align-self: flex-start;\n",
              "  width: 50%;\n",
              "}\n",
              "\n",
              "#sk-container-id-3 div.sk-parallel-item:only-child::after {\n",
              "  width: 0;\n",
              "}\n",
              "\n",
              "/* Serial-specific style estimator block */\n",
              "\n",
              "#sk-container-id-3 div.sk-serial {\n",
              "  display: flex;\n",
              "  flex-direction: column;\n",
              "  align-items: center;\n",
              "  background-color: var(--sklearn-color-background);\n",
              "  padding-right: 1em;\n",
              "  padding-left: 1em;\n",
              "}\n",
              "\n",
              "\n",
              "/* Toggleable style: style used for estimator/Pipeline/ColumnTransformer box that is\n",
              "clickable and can be expanded/collapsed.\n",
              "- Pipeline and ColumnTransformer use this feature and define the default style\n",
              "- Estimators will overwrite some part of the style using the `sk-estimator` class\n",
              "*/\n",
              "\n",
              "/* Pipeline and ColumnTransformer style (default) */\n",
              "\n",
              "#sk-container-id-3 div.sk-toggleable {\n",
              "  /* Default theme specific background. It is overwritten whether we have a\n",
              "  specific estimator or a Pipeline/ColumnTransformer */\n",
              "  background-color: var(--sklearn-color-background);\n",
              "}\n",
              "\n",
              "/* Toggleable label */\n",
              "#sk-container-id-3 label.sk-toggleable__label {\n",
              "  cursor: pointer;\n",
              "  display: block;\n",
              "  width: 100%;\n",
              "  margin-bottom: 0;\n",
              "  padding: 0.5em;\n",
              "  box-sizing: border-box;\n",
              "  text-align: center;\n",
              "}\n",
              "\n",
              "#sk-container-id-3 label.sk-toggleable__label-arrow:before {\n",
              "  /* Arrow on the left of the label */\n",
              "  content: \"▸\";\n",
              "  float: left;\n",
              "  margin-right: 0.25em;\n",
              "  color: var(--sklearn-color-icon);\n",
              "}\n",
              "\n",
              "#sk-container-id-3 label.sk-toggleable__label-arrow:hover:before {\n",
              "  color: var(--sklearn-color-text);\n",
              "}\n",
              "\n",
              "/* Toggleable content - dropdown */\n",
              "\n",
              "#sk-container-id-3 div.sk-toggleable__content {\n",
              "  max-height: 0;\n",
              "  max-width: 0;\n",
              "  overflow: hidden;\n",
              "  text-align: left;\n",
              "  /* unfitted */\n",
              "  background-color: var(--sklearn-color-unfitted-level-0);\n",
              "}\n",
              "\n",
              "#sk-container-id-3 div.sk-toggleable__content.fitted {\n",
              "  /* fitted */\n",
              "  background-color: var(--sklearn-color-fitted-level-0);\n",
              "}\n",
              "\n",
              "#sk-container-id-3 div.sk-toggleable__content pre {\n",
              "  margin: 0.2em;\n",
              "  border-radius: 0.25em;\n",
              "  color: var(--sklearn-color-text);\n",
              "  /* unfitted */\n",
              "  background-color: var(--sklearn-color-unfitted-level-0);\n",
              "}\n",
              "\n",
              "#sk-container-id-3 div.sk-toggleable__content.fitted pre {\n",
              "  /* unfitted */\n",
              "  background-color: var(--sklearn-color-fitted-level-0);\n",
              "}\n",
              "\n",
              "#sk-container-id-3 input.sk-toggleable__control:checked~div.sk-toggleable__content {\n",
              "  /* Expand drop-down */\n",
              "  max-height: 200px;\n",
              "  max-width: 100%;\n",
              "  overflow: auto;\n",
              "}\n",
              "\n",
              "#sk-container-id-3 input.sk-toggleable__control:checked~label.sk-toggleable__label-arrow:before {\n",
              "  content: \"▾\";\n",
              "}\n",
              "\n",
              "/* Pipeline/ColumnTransformer-specific style */\n",
              "\n",
              "#sk-container-id-3 div.sk-label input.sk-toggleable__control:checked~label.sk-toggleable__label {\n",
              "  color: var(--sklearn-color-text);\n",
              "  background-color: var(--sklearn-color-unfitted-level-2);\n",
              "}\n",
              "\n",
              "#sk-container-id-3 div.sk-label.fitted input.sk-toggleable__control:checked~label.sk-toggleable__label {\n",
              "  background-color: var(--sklearn-color-fitted-level-2);\n",
              "}\n",
              "\n",
              "/* Estimator-specific style */\n",
              "\n",
              "/* Colorize estimator box */\n",
              "#sk-container-id-3 div.sk-estimator input.sk-toggleable__control:checked~label.sk-toggleable__label {\n",
              "  /* unfitted */\n",
              "  background-color: var(--sklearn-color-unfitted-level-2);\n",
              "}\n",
              "\n",
              "#sk-container-id-3 div.sk-estimator.fitted input.sk-toggleable__control:checked~label.sk-toggleable__label {\n",
              "  /* fitted */\n",
              "  background-color: var(--sklearn-color-fitted-level-2);\n",
              "}\n",
              "\n",
              "#sk-container-id-3 div.sk-label label.sk-toggleable__label,\n",
              "#sk-container-id-3 div.sk-label label {\n",
              "  /* The background is the default theme color */\n",
              "  color: var(--sklearn-color-text-on-default-background);\n",
              "}\n",
              "\n",
              "/* On hover, darken the color of the background */\n",
              "#sk-container-id-3 div.sk-label:hover label.sk-toggleable__label {\n",
              "  color: var(--sklearn-color-text);\n",
              "  background-color: var(--sklearn-color-unfitted-level-2);\n",
              "}\n",
              "\n",
              "/* Label box, darken color on hover, fitted */\n",
              "#sk-container-id-3 div.sk-label.fitted:hover label.sk-toggleable__label.fitted {\n",
              "  color: var(--sklearn-color-text);\n",
              "  background-color: var(--sklearn-color-fitted-level-2);\n",
              "}\n",
              "\n",
              "/* Estimator label */\n",
              "\n",
              "#sk-container-id-3 div.sk-label label {\n",
              "  font-family: monospace;\n",
              "  font-weight: bold;\n",
              "  display: inline-block;\n",
              "  line-height: 1.2em;\n",
              "}\n",
              "\n",
              "#sk-container-id-3 div.sk-label-container {\n",
              "  text-align: center;\n",
              "}\n",
              "\n",
              "/* Estimator-specific */\n",
              "#sk-container-id-3 div.sk-estimator {\n",
              "  font-family: monospace;\n",
              "  border: 1px dotted var(--sklearn-color-border-box);\n",
              "  border-radius: 0.25em;\n",
              "  box-sizing: border-box;\n",
              "  margin-bottom: 0.5em;\n",
              "  /* unfitted */\n",
              "  background-color: var(--sklearn-color-unfitted-level-0);\n",
              "}\n",
              "\n",
              "#sk-container-id-3 div.sk-estimator.fitted {\n",
              "  /* fitted */\n",
              "  background-color: var(--sklearn-color-fitted-level-0);\n",
              "}\n",
              "\n",
              "/* on hover */\n",
              "#sk-container-id-3 div.sk-estimator:hover {\n",
              "  /* unfitted */\n",
              "  background-color: var(--sklearn-color-unfitted-level-2);\n",
              "}\n",
              "\n",
              "#sk-container-id-3 div.sk-estimator.fitted:hover {\n",
              "  /* fitted */\n",
              "  background-color: var(--sklearn-color-fitted-level-2);\n",
              "}\n",
              "\n",
              "/* Specification for estimator info (e.g. \"i\" and \"?\") */\n",
              "\n",
              "/* Common style for \"i\" and \"?\" */\n",
              "\n",
              ".sk-estimator-doc-link,\n",
              "a:link.sk-estimator-doc-link,\n",
              "a:visited.sk-estimator-doc-link {\n",
              "  float: right;\n",
              "  font-size: smaller;\n",
              "  line-height: 1em;\n",
              "  font-family: monospace;\n",
              "  background-color: var(--sklearn-color-background);\n",
              "  border-radius: 1em;\n",
              "  height: 1em;\n",
              "  width: 1em;\n",
              "  text-decoration: none !important;\n",
              "  margin-left: 1ex;\n",
              "  /* unfitted */\n",
              "  border: var(--sklearn-color-unfitted-level-1) 1pt solid;\n",
              "  color: var(--sklearn-color-unfitted-level-1);\n",
              "}\n",
              "\n",
              ".sk-estimator-doc-link.fitted,\n",
              "a:link.sk-estimator-doc-link.fitted,\n",
              "a:visited.sk-estimator-doc-link.fitted {\n",
              "  /* fitted */\n",
              "  border: var(--sklearn-color-fitted-level-1) 1pt solid;\n",
              "  color: var(--sklearn-color-fitted-level-1);\n",
              "}\n",
              "\n",
              "/* On hover */\n",
              "div.sk-estimator:hover .sk-estimator-doc-link:hover,\n",
              ".sk-estimator-doc-link:hover,\n",
              "div.sk-label-container:hover .sk-estimator-doc-link:hover,\n",
              ".sk-estimator-doc-link:hover {\n",
              "  /* unfitted */\n",
              "  background-color: var(--sklearn-color-unfitted-level-3);\n",
              "  color: var(--sklearn-color-background);\n",
              "  text-decoration: none;\n",
              "}\n",
              "\n",
              "div.sk-estimator.fitted:hover .sk-estimator-doc-link.fitted:hover,\n",
              ".sk-estimator-doc-link.fitted:hover,\n",
              "div.sk-label-container:hover .sk-estimator-doc-link.fitted:hover,\n",
              ".sk-estimator-doc-link.fitted:hover {\n",
              "  /* fitted */\n",
              "  background-color: var(--sklearn-color-fitted-level-3);\n",
              "  color: var(--sklearn-color-background);\n",
              "  text-decoration: none;\n",
              "}\n",
              "\n",
              "/* Span, style for the box shown on hovering the info icon */\n",
              ".sk-estimator-doc-link span {\n",
              "  display: none;\n",
              "  z-index: 9999;\n",
              "  position: relative;\n",
              "  font-weight: normal;\n",
              "  right: .2ex;\n",
              "  padding: .5ex;\n",
              "  margin: .5ex;\n",
              "  width: min-content;\n",
              "  min-width: 20ex;\n",
              "  max-width: 50ex;\n",
              "  color: var(--sklearn-color-text);\n",
              "  box-shadow: 2pt 2pt 4pt #999;\n",
              "  /* unfitted */\n",
              "  background: var(--sklearn-color-unfitted-level-0);\n",
              "  border: .5pt solid var(--sklearn-color-unfitted-level-3);\n",
              "}\n",
              "\n",
              ".sk-estimator-doc-link.fitted span {\n",
              "  /* fitted */\n",
              "  background: var(--sklearn-color-fitted-level-0);\n",
              "  border: var(--sklearn-color-fitted-level-3);\n",
              "}\n",
              "\n",
              ".sk-estimator-doc-link:hover span {\n",
              "  display: block;\n",
              "}\n",
              "\n",
              "/* \"?\"-specific style due to the `<a>` HTML tag */\n",
              "\n",
              "#sk-container-id-3 a.estimator_doc_link {\n",
              "  float: right;\n",
              "  font-size: 1rem;\n",
              "  line-height: 1em;\n",
              "  font-family: monospace;\n",
              "  background-color: var(--sklearn-color-background);\n",
              "  border-radius: 1rem;\n",
              "  height: 1rem;\n",
              "  width: 1rem;\n",
              "  text-decoration: none;\n",
              "  /* unfitted */\n",
              "  color: var(--sklearn-color-unfitted-level-1);\n",
              "  border: var(--sklearn-color-unfitted-level-1) 1pt solid;\n",
              "}\n",
              "\n",
              "#sk-container-id-3 a.estimator_doc_link.fitted {\n",
              "  /* fitted */\n",
              "  border: var(--sklearn-color-fitted-level-1) 1pt solid;\n",
              "  color: var(--sklearn-color-fitted-level-1);\n",
              "}\n",
              "\n",
              "/* On hover */\n",
              "#sk-container-id-3 a.estimator_doc_link:hover {\n",
              "  /* unfitted */\n",
              "  background-color: var(--sklearn-color-unfitted-level-3);\n",
              "  color: var(--sklearn-color-background);\n",
              "  text-decoration: none;\n",
              "}\n",
              "\n",
              "#sk-container-id-3 a.estimator_doc_link.fitted:hover {\n",
              "  /* fitted */\n",
              "  background-color: var(--sklearn-color-fitted-level-3);\n",
              "}\n",
              "</style><div id=\"sk-container-id-3\" class=\"sk-top-container\"><div class=\"sk-text-repr-fallback\"><pre>XGBClassifier(base_score=None, booster=None, callbacks=None,\n",
              "              colsample_bylevel=None, colsample_bynode=None,\n",
              "              colsample_bytree=None, device=None, early_stopping_rounds=None,\n",
              "              enable_categorical=False, eval_metric=None, feature_types=None,\n",
              "              gamma=None, grow_policy=None, importance_type=None,\n",
              "              interaction_constraints=None, learning_rate=0.2, max_bin=None,\n",
              "              max_cat_threshold=None, max_cat_to_onehot=None,\n",
              "              max_delta_step=None, max_depth=7, max_leaves=None,\n",
              "              min_child_weight=None, missing=nan, monotone_constraints=None,\n",
              "              multi_strategy=None, n_estimators=50, n_jobs=None,\n",
              "              num_parallel_tree=None, random_state=42, ...)</pre><b>In a Jupyter environment, please rerun this cell to show the HTML representation or trust the notebook. <br />On GitHub, the HTML representation is unable to render, please try loading this page with nbviewer.org.</b></div><div class=\"sk-container\" hidden><div class=\"sk-item\"><div class=\"sk-estimator fitted sk-toggleable\"><input class=\"sk-toggleable__control sk-hidden--visually\" id=\"sk-estimator-id-5\" type=\"checkbox\" checked><label for=\"sk-estimator-id-5\" class=\"sk-toggleable__label fitted sk-toggleable__label-arrow fitted\">&nbsp;XGBClassifier<span class=\"sk-estimator-doc-link fitted\">i<span>Fitted</span></span></label><div class=\"sk-toggleable__content fitted\"><pre>XGBClassifier(base_score=None, booster=None, callbacks=None,\n",
              "              colsample_bylevel=None, colsample_bynode=None,\n",
              "              colsample_bytree=None, device=None, early_stopping_rounds=None,\n",
              "              enable_categorical=False, eval_metric=None, feature_types=None,\n",
              "              gamma=None, grow_policy=None, importance_type=None,\n",
              "              interaction_constraints=None, learning_rate=0.2, max_bin=None,\n",
              "              max_cat_threshold=None, max_cat_to_onehot=None,\n",
              "              max_delta_step=None, max_depth=7, max_leaves=None,\n",
              "              min_child_weight=None, missing=nan, monotone_constraints=None,\n",
              "              multi_strategy=None, n_estimators=50, n_jobs=None,\n",
              "              num_parallel_tree=None, random_state=42, ...)</pre></div> </div></div></div></div>"
            ]
          },
          "metadata": {},
          "execution_count": 33
        }
      ]
    },
    {
      "cell_type": "code",
      "source": [
        "# Performance Metrics for Optimised XGBoost Model with 'ContactHours' and 'AttendancePercentage'\n",
        "y_pred_optimised_with_features = best_xgb_model_with_features.predict(X_test)\n",
        "print(\"Performance Metrics for Optimised XGBoost Model with ContactHours and AttendancePercentage:\")\n",
        "print(\"Accuracy:\", accuracy_score(y_test, y_pred_optimised_with_features))\n",
        "print(\"Confusion Matrix:\\n\", confusion_matrix(y_test, y_pred_optimised_with_features))\n",
        "print(\"Precision:\", precision_score(y_test, y_pred_optimised_with_features))\n",
        "print(\"Recall:\", recall_score(y_test, y_pred_optimised_with_features))\n",
        "print(\"AUC:\", roc_auc_score(y_test, y_pred_optimised_with_features))"
      ],
      "metadata": {
        "colab": {
          "base_uri": "https://localhost:8080/"
        },
        "id": "kwhasjaa_LG1",
        "outputId": "f18ac324-471d-41ee-b64e-270e8d451243"
      },
      "execution_count": null,
      "outputs": [
        {
          "output_type": "stream",
          "name": "stdout",
          "text": [
            "Performance Metrics for Optimised XGBoost Model with ContactHours and AttendancePercentage:\n",
            "Accuracy: 0.9581313353900397\n",
            "Confusion Matrix:\n",
            " [[ 266    9]\n",
            " [ 181 4082]]\n",
            "Precision: 0.9978000488878025\n",
            "Recall: 0.957541637344593\n",
            "AUC: 0.9624071823086602\n"
          ]
        }
      ]
    },
    {
      "cell_type": "markdown",
      "source": [
        "- **Accuracy** jumped to ~0.9581, reflecting better overall predictions.\n",
        "- **Recall** (~0.9575) indicates fewer missed dropouts.\n",
        "- **Precision** (~0.9978) remains superb, with nearly zero false positives.\n",
        "- **AUC** (~0.9624) confirms improved discrimination overall.\n",
        "\n",
        "These gains highlight the critical role of attendance metrics in identifying at-risk students."
      ],
      "metadata": {
        "id": "CP_DHkC5yIBo"
      }
    },
    {
      "cell_type": "code",
      "source": [
        "# Feature Importance Plot for Optimised XGBoost Model with 'ContactHours' and 'AttendancePercentage'\n",
        "plt.figure(figsize=(10, 6))\n",
        "plot_importance(best_xgb_model_with_features, max_num_features=10)\n",
        "plt.title('Feature Importance for Optimised XGBoost Model with ContactHours and AttendancePercentage')\n",
        "plt.show()"
      ],
      "metadata": {
        "colab": {
          "base_uri": "https://localhost:8080/",
          "height": 489
        },
        "id": "ktZV8cXo_KZA",
        "outputId": "bfa77146-a287-45b2-9dce-3b6c5356d434"
      },
      "execution_count": null,
      "outputs": [
        {
          "output_type": "display_data",
          "data": {
            "text/plain": [
              "<Figure size 1000x600 with 0 Axes>"
            ]
          },
          "metadata": {}
        },
        {
          "output_type": "display_data",
          "data": {
            "text/plain": [
              "<Figure size 640x480 with 1 Axes>"
            ],
            "image/png": "[encoded data removed]"
          },
          "metadata": {}
        }
      ]
    },
    {
      "cell_type": "markdown",
      "source": [
        "After adding ContactHours and AttendancePercentage:\n",
        "- ContactHours became the most important feature.\n",
        "- UnauthorisedAbsenceCount and CreditWeightedAverage remained key predictors, ranking above AttendancePercentage.\n",
        "- AttendancePercentage was still useful but contributed slightly less to the model’s decisions.\n",
        "\n",
        "This reinforces that attendance metrics alone are not sufficient for predicting dropout—academic performance and unauthorised absences must also be considered.\n"
      ],
      "metadata": {
        "id": "lIlJkRE4MJG7"
      }
    },
    {
      "cell_type": "markdown",
      "source": [
        "## 5. Neural Network Model Development and Optimisation"
      ],
      "metadata": {
        "id": "agsJyOgtcBrq"
      }
    },
    {
      "cell_type": "markdown",
      "source": [
        "### Baseline Neural Network Model (Without Attendance Data)\n",
        "\n"
      ],
      "metadata": {
        "id": "4BaVFYJyDLNi"
      }
    },
    {
      "cell_type": "markdown",
      "source": [
        "We construct a simple feed-forward neural network with two hidden layers. As with XGBoost, we initially exclude attendance features to maintain a parallel baseline, then observe the improvements once we add them."
      ],
      "metadata": {
        "id": "gYdOH9OVzwtX"
      }
    },
    {
      "cell_type": "code",
      "source": [
        "# Initial Neural Network without 'ContactHours' and 'AttendancePercentage'\n",
        "model_nn_no_features = Sequential()\n",
        "model_nn_no_features.add(Input(shape=(X_train_no_features.shape[1],)))\n",
        "model_nn_no_features.add(Dense(64, activation='relu'))\n",
        "model_nn_no_features.add(Dropout(0.3))\n",
        "model_nn_no_features.add(Dense(32, activation='relu'))\n",
        "model_nn_no_features.add(Dropout(0.3))\n",
        "model_nn_no_features.add(Dense(1, activation='sigmoid'))\n",
        "\n",
        "model_nn_no_features.compile(optimizer=Adam(learning_rate=0.01), loss='binary_crossentropy', metrics=['accuracy'])\n",
        "\n",
        "class_weights = {0: (len(y) / (2 * y.value_counts()[0])), 1: (len(y) / (2 * y.value_counts()[1]))}"
      ],
      "metadata": {
        "id": "RbW2T3eA_IxV"
      },
      "execution_count": null,
      "outputs": []
    },
    {
      "cell_type": "code",
      "source": [
        "# Fitting the Initial Neural Network without 'ContactHours' and 'AttendancePercentage'\n",
        "early_stopping = EarlyStopping(monitor='val_loss', patience=10, restore_best_weights=True)\n",
        "history_nn_no_features = model_nn_no_features.fit(X_train_no_features, y_train, validation_split=0.2, epochs=100, batch_size=32, callbacks=[early_stopping], verbose=1, class_weight=class_weights)"
      ],
      "metadata": {
        "colab": {
          "base_uri": "https://localhost:8080/"
        },
        "id": "rPTjxRSI_IAb",
        "outputId": "e6c754dd-b1a4-4c59-eda1-29b5a33b517b"
      },
      "execution_count": null,
      "outputs": [
        {
          "output_type": "stream",
          "name": "stdout",
          "text": [
            "Epoch 1/100\n",
            "\u001b[1m454/454\u001b[0m \u001b[32m━━━━━━━━━━━━━━━━━━━━\u001b[0m\u001b[37m\u001b[0m \u001b[1m2s\u001b[0m 2ms/step - accuracy: 0.9128 - loss: 0.2366 - val_accuracy: 0.9176 - val_loss: 0.1624\n",
            "Epoch 2/100\n",
            "\u001b[1m454/454\u001b[0m \u001b[32m━━━━━━━━━━━━━━━━━━━━\u001b[0m\u001b[37m\u001b[0m \u001b[1m1s\u001b[0m 3ms/step - accuracy: 0.9183 - loss: 0.1439 - val_accuracy: 0.9198 - val_loss: 0.1591\n",
            "Epoch 3/100\n",
            "\u001b[1m454/454\u001b[0m \u001b[32m━━━━━━━━━━━━━━━━━━━━\u001b[0m\u001b[37m\u001b[0m \u001b[1m2s\u001b[0m 3ms/step - accuracy: 0.9158 - loss: 0.1396 - val_accuracy: 0.9256 - val_loss: 0.1620\n",
            "Epoch 4/100\n",
            "\u001b[1m454/454\u001b[0m \u001b[32m━━━━━━━━━━━━━━━━━━━━\u001b[0m\u001b[37m\u001b[0m \u001b[1m3s\u001b[0m 3ms/step - accuracy: 0.9217 - loss: 0.1318 - val_accuracy: 0.9229 - val_loss: 0.1622\n",
            "Epoch 5/100\n",
            "\u001b[1m454/454\u001b[0m \u001b[32m━━━━━━━━━━━━━━━━━━━━\u001b[0m\u001b[37m\u001b[0m \u001b[1m1s\u001b[0m 2ms/step - accuracy: 0.9181 - loss: 0.1275 - val_accuracy: 0.9207 - val_loss: 0.1646\n",
            "Epoch 6/100\n",
            "\u001b[1m454/454\u001b[0m \u001b[32m━━━━━━━━━━━━━━━━━━━━\u001b[0m\u001b[37m\u001b[0m \u001b[1m2s\u001b[0m 4ms/step - accuracy: 0.9148 - loss: 0.1385 - val_accuracy: 0.9140 - val_loss: 0.1822\n",
            "Epoch 7/100\n",
            "\u001b[1m454/454\u001b[0m \u001b[32m━━━━━━━━━━━━━━━━━━━━\u001b[0m\u001b[37m\u001b[0m \u001b[1m2s\u001b[0m 4ms/step - accuracy: 0.9203 - loss: 0.1226 - val_accuracy: 0.9231 - val_loss: 0.1626\n",
            "Epoch 8/100\n",
            "\u001b[1m454/454\u001b[0m \u001b[32m━━━━━━━━━━━━━━━━━━━━\u001b[0m\u001b[37m\u001b[0m \u001b[1m1s\u001b[0m 2ms/step - accuracy: 0.9228 - loss: 0.1245 - val_accuracy: 0.9124 - val_loss: 0.1747\n",
            "Epoch 9/100\n",
            "\u001b[1m454/454\u001b[0m \u001b[32m━━━━━━━━━━━━━━━━━━━━\u001b[0m\u001b[37m\u001b[0m \u001b[1m1s\u001b[0m 2ms/step - accuracy: 0.9227 - loss: 0.1205 - val_accuracy: 0.9300 - val_loss: 0.1732\n",
            "Epoch 10/100\n",
            "\u001b[1m454/454\u001b[0m \u001b[32m━━━━━━━━━━━━━━━━━━━━\u001b[0m\u001b[37m\u001b[0m \u001b[1m1s\u001b[0m 2ms/step - accuracy: 0.9125 - loss: 0.1415 - val_accuracy: 0.9309 - val_loss: 0.1611\n",
            "Epoch 11/100\n",
            "\u001b[1m454/454\u001b[0m \u001b[32m━━━━━━━━━━━━━━━━━━━━\u001b[0m\u001b[37m\u001b[0m \u001b[1m1s\u001b[0m 2ms/step - accuracy: 0.9222 - loss: 0.1263 - val_accuracy: 0.9342 - val_loss: 0.1504\n",
            "Epoch 12/100\n",
            "\u001b[1m454/454\u001b[0m \u001b[32m━━━━━━━━━━━━━━━━━━━━\u001b[0m\u001b[37m\u001b[0m \u001b[1m1s\u001b[0m 2ms/step - accuracy: 0.9290 - loss: 0.1183 - val_accuracy: 0.9270 - val_loss: 0.1504\n",
            "Epoch 13/100\n",
            "\u001b[1m454/454\u001b[0m \u001b[32m━━━━━━━━━━━━━━━━━━━━\u001b[0m\u001b[37m\u001b[0m \u001b[1m2s\u001b[0m 3ms/step - accuracy: 0.9189 - loss: 0.1256 - val_accuracy: 0.9259 - val_loss: 0.1498\n",
            "Epoch 14/100\n",
            "\u001b[1m454/454\u001b[0m \u001b[32m━━━━━━━━━━━━━━━━━━━━\u001b[0m\u001b[37m\u001b[0m \u001b[1m3s\u001b[0m 3ms/step - accuracy: 0.9305 - loss: 0.1139 - val_accuracy: 0.9259 - val_loss: 0.1611\n",
            "Epoch 15/100\n",
            "\u001b[1m454/454\u001b[0m \u001b[32m━━━━━━━━━━━━━━━━━━━━\u001b[0m\u001b[37m\u001b[0m \u001b[1m2s\u001b[0m 2ms/step - accuracy: 0.9167 - loss: 0.1499 - val_accuracy: 0.9300 - val_loss: 0.1593\n",
            "Epoch 16/100\n",
            "\u001b[1m454/454\u001b[0m \u001b[32m━━━━━━━━━━━━━━━━━━━━\u001b[0m\u001b[37m\u001b[0m \u001b[1m1s\u001b[0m 2ms/step - accuracy: 0.9257 - loss: 0.1226 - val_accuracy: 0.9196 - val_loss: 0.1760\n",
            "Epoch 17/100\n",
            "\u001b[1m454/454\u001b[0m \u001b[32m━━━━━━━━━━━━━━━━━━━━\u001b[0m\u001b[37m\u001b[0m \u001b[1m1s\u001b[0m 2ms/step - accuracy: 0.9226 - loss: 0.1239 - val_accuracy: 0.9507 - val_loss: 0.1117\n",
            "Epoch 18/100\n",
            "\u001b[1m454/454\u001b[0m \u001b[32m━━━━━━━━━━━━━━━━━━━━\u001b[0m\u001b[37m\u001b[0m \u001b[1m1s\u001b[0m 2ms/step - accuracy: 0.9359 - loss: 0.1350 - val_accuracy: 0.9350 - val_loss: 0.1434\n",
            "Epoch 19/100\n",
            "\u001b[1m454/454\u001b[0m \u001b[32m━━━━━━━━━━━━━━━━━━━━\u001b[0m\u001b[37m\u001b[0m \u001b[1m1s\u001b[0m 2ms/step - accuracy: 0.9218 - loss: 0.1353 - val_accuracy: 0.9317 - val_loss: 0.1529\n",
            "Epoch 20/100\n",
            "\u001b[1m454/454\u001b[0m \u001b[32m━━━━━━━━━━━━━━━━━━━━\u001b[0m\u001b[37m\u001b[0m \u001b[1m1s\u001b[0m 2ms/step - accuracy: 0.9272 - loss: 0.1230 - val_accuracy: 0.9333 - val_loss: 0.1508\n",
            "Epoch 21/100\n",
            "\u001b[1m454/454\u001b[0m \u001b[32m━━━━━━━━━━━━━━━━━━━━\u001b[0m\u001b[37m\u001b[0m \u001b[1m1s\u001b[0m 2ms/step - accuracy: 0.9300 - loss: 0.1148 - val_accuracy: 0.9397 - val_loss: 0.1376\n",
            "Epoch 22/100\n",
            "\u001b[1m454/454\u001b[0m \u001b[32m━━━━━━━━━━━━━━━━━━━━\u001b[0m\u001b[37m\u001b[0m \u001b[1m1s\u001b[0m 2ms/step - accuracy: 0.9330 - loss: 0.1153 - val_accuracy: 0.9328 - val_loss: 0.1622\n",
            "Epoch 23/100\n",
            "\u001b[1m454/454\u001b[0m \u001b[32m━━━━━━━━━━━━━━━━━━━━\u001b[0m\u001b[37m\u001b[0m \u001b[1m1s\u001b[0m 2ms/step - accuracy: 0.9248 - loss: 0.1423 - val_accuracy: 0.9375 - val_loss: 0.1531\n",
            "Epoch 24/100\n",
            "\u001b[1m454/454\u001b[0m \u001b[32m━━━━━━━━━━━━━━━━━━━━\u001b[0m\u001b[37m\u001b[0m \u001b[1m1s\u001b[0m 3ms/step - accuracy: 0.9326 - loss: 0.1156 - val_accuracy: 0.9311 - val_loss: 0.1652\n",
            "Epoch 25/100\n",
            "\u001b[1m454/454\u001b[0m \u001b[32m━━━━━━━━━━━━━━━━━━━━\u001b[0m\u001b[37m\u001b[0m \u001b[1m3s\u001b[0m 4ms/step - accuracy: 0.9305 - loss: 0.1183 - val_accuracy: 0.9347 - val_loss: 0.1623\n",
            "Epoch 26/100\n",
            "\u001b[1m454/454\u001b[0m \u001b[32m━━━━━━━━━━━━━━━━━━━━\u001b[0m\u001b[37m\u001b[0m \u001b[1m2s\u001b[0m 2ms/step - accuracy: 0.9327 - loss: 0.1143 - val_accuracy: 0.9388 - val_loss: 0.1618\n",
            "Epoch 27/100\n",
            "\u001b[1m454/454\u001b[0m \u001b[32m━━━━━━━━━━━━━━━━━━━━\u001b[0m\u001b[37m\u001b[0m \u001b[1m1s\u001b[0m 2ms/step - accuracy: 0.9318 - loss: 0.1165 - val_accuracy: 0.9317 - val_loss: 0.1597\n"
          ]
        }
      ]
    },
    {
      "cell_type": "code",
      "source": [
        "# Performance Metrics for Initial Neural Network without 'ContactHours' and 'AttendancePercentage'\n",
        "y_pred_nn_no_features = (model_nn_no_features.predict(X_test_no_features) > 0.5).astype(int)\n",
        "print(\"Performance Metrics for Initial Neural Network without ContactHours and AttendancePercentage:\")\n",
        "print(\"Accuracy:\", accuracy_score(y_test, y_pred_nn_no_features))\n",
        "print(\"Confusion Matrix:\\n\", confusion_matrix(y_test, y_pred_nn_no_features))\n",
        "print(\"Precision:\", precision_score(y_test, y_pred_nn_no_features))\n",
        "print(\"Recall:\", recall_score(y_test, y_pred_nn_no_features))\n",
        "print(\"AUC:\", roc_auc_score(y_test, y_pred_nn_no_features))"
      ],
      "metadata": {
        "colab": {
          "base_uri": "https://localhost:8080/"
        },
        "id": "MpRTz8Zo_HYU",
        "outputId": "f1907b0f-9882-4740-8362-495518a67d3c"
      },
      "execution_count": null,
      "outputs": [
        {
          "output_type": "stream",
          "name": "stdout",
          "text": [
            "\u001b[1m142/142\u001b[0m \u001b[32m━━━━━━━━━━━━━━━━━━━━\u001b[0m\u001b[37m\u001b[0m \u001b[1m0s\u001b[0m 1ms/step\n",
            "Performance Metrics for Initial Neural Network without ContactHours and AttendancePercentage:\n",
            "Accuracy: 0.9473336271485235\n",
            "Confusion Matrix:\n",
            " [[ 256   19]\n",
            " [ 220 4043]]\n",
            "Precision: 0.9953225012309207\n",
            "Recall: 0.9483931503635937\n",
            "AUC: 0.9396511206363424\n"
          ]
        }
      ]
    },
    {
      "cell_type": "markdown",
      "source": [
        "- **Accuracy (~0.9473)** is close to the XGBoost baseline.\n",
        "- **Recall (~0.9484)** parallels XGBoost’s ability to detect dropouts.\n",
        "- **Precision (~0.9953)** remains very high, with few false positives.\n",
        "- **AUC (~0.9397)** indicates a robust classifier for a first pass.\n",
        "\n",
        "The network trains relatively quickly but shows room for improvement (e.g., refining architecture, adding missing features).\n"
      ],
      "metadata": {
        "id": "We076wXYz3aN"
      }
    },
    {
      "cell_type": "code",
      "source": [
        "# Plotting Loss Curves for Initial Neural Network without 'ContactHours' and 'AttendancePercentage'\n",
        "plt.figure(figsize=(8, 5))\n",
        "plt.plot(history_nn_no_features.history['loss'], label='Training Loss')\n",
        "plt.plot(history_nn_no_features.history['val_loss'], label='Validation Loss')\n",
        "plt.title('Loss Curves for Initial Neural Network without ContactHours and AttendancePercentage')\n",
        "plt.xlabel('Epoch')\n",
        "plt.ylabel('Loss')\n",
        "plt.legend()\n",
        "plt.show()"
      ],
      "metadata": {
        "colab": {
          "base_uri": "https://localhost:8080/",
          "height": 487
        },
        "id": "L9qWP-9S_Gkf",
        "outputId": "b8594f82-0cf9-427c-a61f-53373b56e45a"
      },
      "execution_count": null,
      "outputs": [
        {
          "output_type": "display_data",
          "data": {
            "text/plain": [
              "<Figure size 800x500 with 1 Axes>"
            ],
            "image/png": "[encoded data removed]"
          },
          "metadata": {}
        }
      ]
    },
    {
      "cell_type": "markdown",
      "source": [
        "These curves illustrate how our initial neural network’s training and validation loss evolve over epochs:\n",
        "- **Training loss** steadily declines, reflecting the model’s progress in fitting the data.\n",
        "- **Validation loss** fluctuates more, hinting at some instability in generalisation.\n",
        "- The overall downward trend suggests the model is learning effectively, though further tuning (e.g., dropout rate, learning rate adjustments) might reduce the gap or oscillations.\n"
      ],
      "metadata": {
        "id": "nTLL3SfQLp9H"
      }
    },
    {
      "cell_type": "markdown",
      "source": [
        "### Neural Network Hyperparameter Tuning\n",
        "\n"
      ],
      "metadata": {
        "id": "AdUx9KfacLlO"
      }
    },
    {
      "cell_type": "markdown",
      "source": [
        "**Improving the Neural Network**\n",
        "\n",
        "We use Keras Tuner (RandomSearch) to explore:\n",
        "- **Different dropout rates** to reduce overfitting.\n",
        "- **Varying hidden layer sizes** to balance complexity and training stability.\n",
        "- **Learning rate adjustments** for optimal convergence.\n",
        "\n",
        "Our aim is to boost recall while keeping precision high."
      ],
      "metadata": {
        "id": "hzAjs4t7EHat"
      }
    },
    {
      "cell_type": "code",
      "source": [
        "# Function to build the neural network model with hyperparameters for tuning\n",
        "def build_nn_model(hp, input_dim):\n",
        "    model = Sequential()\n",
        "\n",
        "    # Tuning the number of units in the first Dense layer\n",
        "    hp_units_1 = hp.Int('units_1', min_value=32, max_value=128, step=16)\n",
        "    model.add(Input(shape=(input_dim,)))\n",
        "    model.add(Dense(units=hp_units_1, activation='relu'))\n",
        "\n",
        "    # Adding a dropout layer with a tunable rate\n",
        "    hp_dropout_1 = hp.Float('dropout_1', min_value=0.2, max_value=0.5, step=0.1)\n",
        "    model.add(Dropout(rate=hp_dropout_1))\n",
        "\n",
        "    # Tuning the number of units in the second Dense layer\n",
        "    hp_units_2 = hp.Int('units_2', min_value=16, max_value=64, step=16)\n",
        "    model.add(Dense(units=hp_units_2, activation='relu'))\n",
        "\n",
        "    # Addding another dropout layer with a tunable rate\n",
        "    hp_dropout_2 = hp.Float('dropout_2', min_value=0.2, max_value=0.5, step=0.1)\n",
        "    model.add(Dropout(rate=hp_dropout_2))\n",
        "\n",
        "    # Output layer\n",
        "    model.add(Dense(1, activation='sigmoid'))\n",
        "\n",
        "    # Tuning the learning rate for the optimizer\n",
        "    hp_learning_rate = hp.Choice('learning_rate', values=[1e-2, 1e-3, 1e-4])\n",
        "    model.compile(optimizer=Adam(learning_rate=hp_learning_rate), loss='binary_crossentropy', metrics=['accuracy'])\n",
        "\n",
        "    return model"
      ],
      "metadata": {
        "id": "pv-E9OV6_Dt8"
      },
      "execution_count": null,
      "outputs": []
    },
    {
      "cell_type": "code",
      "source": [
        "# Hyperparameter Tuning for Neural Network Model without Features\n",
        "tuner_no_features = RandomSearch(\n",
        "    lambda hp: build_nn_model(hp, input_dim=X_train_no_features.shape[1]),\n",
        "    objective='val_loss',\n",
        "    max_trials=10,\n",
        "    directory='my_dir',\n",
        "    project_name='dropout_prediction_nn_no_features'\n",
        ")\n",
        "\n",
        "tuner_no_features.search(X_train_no_features, y_train, epochs=50, validation_split=0.2, callbacks=[early_stopping], verbose=2, class_weight=class_weights)"
      ],
      "metadata": {
        "colab": {
          "base_uri": "https://localhost:8080/"
        },
        "id": "ikw7KR2S--xE",
        "outputId": "8fe93558-801f-49af-bfb0-d9d7a06ca041"
      },
      "execution_count": null,
      "outputs": [
        {
          "output_type": "stream",
          "name": "stdout",
          "text": [
            "Trial 10 Complete [00h 00m 16s]\n",
            "val_loss: 0.15338987112045288\n",
            "\n",
            "Best val_loss So Far: 0.12610657513141632\n",
            "Total elapsed time: 00h 02m 37s\n"
          ]
        }
      ]
    },
    {
      "cell_type": "code",
      "source": [
        "# Best hyperparameters from tuner\n",
        "best_hp_nn_no_features = tuner_no_features.get_best_hyperparameters()[0]\n",
        "model_nn_optimised_no_features = tuner_no_features.hypermodel.build(best_hp_nn_no_features)"
      ],
      "metadata": {
        "id": "s6bfc5mb--OF"
      },
      "execution_count": null,
      "outputs": []
    },
    {
      "cell_type": "markdown",
      "source": [
        "### Optimised Neural Network\n",
        "\n"
      ],
      "metadata": {
        "id": "5CKX6xfyGJ9A"
      }
    },
    {
      "cell_type": "code",
      "source": [
        "# Optimised Neural Network with 'ContactHours' and 'AttendancePercentage'\n",
        "tuner_with_features = RandomSearch(\n",
        "    lambda hp: build_nn_model(hp, input_dim=X_train.shape[1]),\n",
        "    objective='val_loss',\n",
        "    max_trials=10,\n",
        "    directory='my_dir',\n",
        "    project_name='dropout_prediction_nn_with_features'\n",
        ")\n",
        "\n",
        "tuner_with_features.search(X_train, y_train, epochs=50, validation_split=0.2, callbacks=[early_stopping], verbose=2, class_weight=class_weights)"
      ],
      "metadata": {
        "colab": {
          "base_uri": "https://localhost:8080/"
        },
        "id": "VCqH4YJF_CvX",
        "outputId": "fea62834-ff45-4042-e6d1-ead407873524"
      },
      "execution_count": null,
      "outputs": [
        {
          "output_type": "stream",
          "name": "stdout",
          "text": [
            "Trial 10 Complete [00h 00m 18s]\n",
            "val_loss: 0.11375853419303894\n",
            "\n",
            "Best val_loss So Far: 0.08387064933776855\n",
            "Total elapsed time: 00h 04m 33s\n"
          ]
        }
      ]
    },
    {
      "cell_type": "code",
      "source": [
        "# Training the optimised model\n",
        "history_nn_optimised_no_features = model_nn_optimised_no_features.fit(X_train_no_features, y_train, validation_split=0.2, epochs=100, batch_size=32, callbacks=[early_stopping], verbose=1, class_weight=class_weights)"
      ],
      "metadata": {
        "colab": {
          "base_uri": "https://localhost:8080/"
        },
        "id": "A0yoP6kr-92A",
        "outputId": "1926c727-a733-413d-b3eb-a8ba33619004"
      },
      "execution_count": null,
      "outputs": [
        {
          "output_type": "stream",
          "name": "stdout",
          "text": [
            "Epoch 1/100\n",
            "\u001b[1m454/454\u001b[0m \u001b[32m━━━━━━━━━━━━━━━━━━━━\u001b[0m\u001b[37m\u001b[0m \u001b[1m2s\u001b[0m 3ms/step - accuracy: 0.8296 - loss: 0.3210 - val_accuracy: 0.9355 - val_loss: 0.1557\n",
            "Epoch 2/100\n",
            "\u001b[1m454/454\u001b[0m \u001b[32m━━━━━━━━━━━━━━━━━━━━\u001b[0m\u001b[37m\u001b[0m \u001b[1m1s\u001b[0m 3ms/step - accuracy: 0.9293 - loss: 0.1478 - val_accuracy: 0.9358 - val_loss: 0.1492\n",
            "Epoch 3/100\n",
            "\u001b[1m454/454\u001b[0m \u001b[32m━━━━━━━━━━━━━━━━━━━━\u001b[0m\u001b[37m\u001b[0m \u001b[1m2s\u001b[0m 3ms/step - accuracy: 0.9321 - loss: 0.1361 - val_accuracy: 0.9344 - val_loss: 0.1434\n",
            "Epoch 4/100\n",
            "\u001b[1m454/454\u001b[0m \u001b[32m━━━━━━━━━━━━━━━━━━━━\u001b[0m\u001b[37m\u001b[0m \u001b[1m3s\u001b[0m 3ms/step - accuracy: 0.9292 - loss: 0.1326 - val_accuracy: 0.9353 - val_loss: 0.1420\n",
            "Epoch 5/100\n",
            "\u001b[1m454/454\u001b[0m \u001b[32m━━━━━━━━━━━━━━━━━━━━\u001b[0m\u001b[37m\u001b[0m \u001b[1m1s\u001b[0m 2ms/step - accuracy: 0.9296 - loss: 0.1241 - val_accuracy: 0.9372 - val_loss: 0.1370\n",
            "Epoch 6/100\n",
            "\u001b[1m454/454\u001b[0m \u001b[32m━━━━━━━━━━━━━━━━━━━━\u001b[0m\u001b[37m\u001b[0m \u001b[1m1s\u001b[0m 2ms/step - accuracy: 0.9308 - loss: 0.1218 - val_accuracy: 0.9399 - val_loss: 0.1342\n",
            "Epoch 7/100\n",
            "\u001b[1m454/454\u001b[0m \u001b[32m━━━━━━━━━━━━━━━━━━━━\u001b[0m\u001b[37m\u001b[0m \u001b[1m1s\u001b[0m 2ms/step - accuracy: 0.9322 - loss: 0.1226 - val_accuracy: 0.9397 - val_loss: 0.1307\n",
            "Epoch 8/100\n",
            "\u001b[1m454/454\u001b[0m \u001b[32m━━━━━━━━━━━━━━━━━━━━\u001b[0m\u001b[37m\u001b[0m \u001b[1m1s\u001b[0m 2ms/step - accuracy: 0.9352 - loss: 0.1187 - val_accuracy: 0.9377 - val_loss: 0.1347\n",
            "Epoch 9/100\n",
            "\u001b[1m454/454\u001b[0m \u001b[32m━━━━━━━━━━━━━━━━━━━━\u001b[0m\u001b[37m\u001b[0m \u001b[1m1s\u001b[0m 2ms/step - accuracy: 0.9348 - loss: 0.1159 - val_accuracy: 0.9419 - val_loss: 0.1253\n",
            "Epoch 10/100\n",
            "\u001b[1m454/454\u001b[0m \u001b[32m━━━━━━━━━━━━━━━━━━━━\u001b[0m\u001b[37m\u001b[0m \u001b[1m1s\u001b[0m 2ms/step - accuracy: 0.9357 - loss: 0.1150 - val_accuracy: 0.9433 - val_loss: 0.1280\n"
          ]
        }
      ]
    },
    {
      "cell_type": "code",
      "source": [
        "# Plotting Loss Curves for Optimised Neural Network without 'ContactHours' and 'AttendancePercentage'\n",
        "plt.figure(figsize=(8, 5))\n",
        "plt.plot(history_nn_optimised_no_features.history['loss'], label='Training Loss')\n",
        "plt.plot(history_nn_optimised_no_features.history['val_loss'], label='Validation Loss')\n",
        "plt.title('Loss Curves for Optimised Neural Network without ContactHours and AttendancePercentage')\n",
        "plt.xlabel('Epoch')\n",
        "plt.ylabel('Loss')\n",
        "plt.legend()\n",
        "plt.show()"
      ],
      "metadata": {
        "colab": {
          "base_uri": "https://localhost:8080/",
          "height": 487
        },
        "id": "SsoPVoQZ-8jx",
        "outputId": "cc0080ad-512c-49e1-b98d-5ae4ffa1176b"
      },
      "execution_count": null,
      "outputs": [
        {
          "output_type": "display_data",
          "data": {
            "text/plain": [
              "<Figure size 800x500 with 1 Axes>"
            ],
            "image/png": "[encoded data removed]"
          },
          "metadata": {}
        }
      ]
    },
    {
      "cell_type": "markdown",
      "source": [
        "After hyperparameter tuning:\n",
        "- **Steeper initial drop** in training loss indicates the improved configuration converges faster.\n",
        "- **Validation loss** remains closer to training loss, implying reduced overfitting.\n",
        "- The model appears more stable (less oscillation), suggesting dropout rate and learning rate adjustments helped generalise better—despite not having attendance features.\n"
      ],
      "metadata": {
        "id": "UhptfhxkL3Bb"
      }
    },
    {
      "cell_type": "code",
      "source": [
        "# Performance Metrics for Optimised Neural Network without 'ContactHours' and 'AttendancePercentage'\n",
        "y_pred_optimised_nn_no_features = (model_nn_optimised_no_features.predict(X_test_no_features) > 0.5).astype(int)\n",
        "print(\"Performance Metrics for Optimised Neural Network without ContactHours and AttendancePercentage:\")\n",
        "print(\"Accuracy:\", accuracy_score(y_test, y_pred_optimised_nn_no_features))\n",
        "print(\"Confusion Matrix:\\n\", confusion_matrix(y_test, y_pred_optimised_nn_no_features))\n",
        "print(\"Precision:\", precision_score(y_test, y_pred_optimised_nn_no_features))\n",
        "print(\"Recall:\", recall_score(y_test, y_pred_optimised_nn_no_features))\n",
        "print(\"AUC:\", roc_auc_score(y_test, y_pred_optimised_nn_no_features))"
      ],
      "metadata": {
        "colab": {
          "base_uri": "https://localhost:8080/"
        },
        "id": "1-FGQzK7-9Qw",
        "outputId": "469ec637-65de-49ce-9489-a603631dc667"
      },
      "execution_count": null,
      "outputs": [
        {
          "output_type": "stream",
          "name": "stdout",
          "text": [
            "\u001b[1m142/142\u001b[0m \u001b[32m━━━━━━━━━━━━━━━━━━━━\u001b[0m\u001b[37m\u001b[0m \u001b[1m0s\u001b[0m 2ms/step\n",
            "Performance Metrics for Optimised Neural Network without ContactHours and AttendancePercentage:\n",
            "Accuracy: 0.9294843543411194\n",
            "Confusion Matrix:\n",
            " [[ 262   13]\n",
            " [ 307 3956]]\n",
            "Precision: 0.9967246157722348\n",
            "Recall: 0.9279849870982876\n",
            "AUC: 0.9403561299127802\n"
          ]
        }
      ]
    },
    {
      "cell_type": "markdown",
      "source": [
        "- **Accuracy (~0.9295)** dipped slightly compared to the initial (unoptimised) NN (~0.9473), although tuning sometimes trades off certain metrics for others.  \n",
        "- **Precision (~0.9967)** remains very high, continuing to minimise false positives.  \n",
        "- **Recall (~0.9280)** shows decent improvements over some baselines, but still suggests we are missing a portion of actual dropouts.  \n",
        "- **AUC (~0.9404)** remains robust, underscoring that, despite lower accuracy, the model maintains strong classification ability across thresholds.\n",
        "\n",
        "These results indicate that hyperparameter tuning **alone** (without attendance features) yields mixed outcomes. The network does well on precision but doesn’t surpass the recall/accuracy of models that leverage `ContactHours` and `AttendancePercentage`. This highlights that **optimised hyperparameters cannot fully compensate for the absence of critical attendance predictors.**"
      ],
      "metadata": {
        "id": "6WFUAzm2HCmw"
      }
    },
    {
      "cell_type": "code",
      "source": [
        "# Best hyperparameters from tuner\n",
        "best_hp_nn_with_features = tuner_with_features.get_best_hyperparameters()[0]\n",
        "model_nn_optimised_with_features = tuner_with_features.hypermodel.build(best_hp_nn_with_features)"
      ],
      "metadata": {
        "id": "NaOuTALN_BAk"
      },
      "execution_count": null,
      "outputs": []
    },
    {
      "cell_type": "code",
      "source": [
        "# Training the optimised model\n",
        "history_nn_optimised_with_features = model_nn_optimised_with_features.fit(X_train, y_train, validation_split=0.2, epochs=100, batch_size=32, callbacks=[early_stopping], verbose=1, class_weight=class_weights)"
      ],
      "metadata": {
        "colab": {
          "base_uri": "https://localhost:8080/"
        },
        "id": "lsrcBg_j_AsW",
        "outputId": "f0fbc48e-a5b6-48e6-fe8a-53d293c9d652"
      },
      "execution_count": null,
      "outputs": [
        {
          "output_type": "stream",
          "name": "stdout",
          "text": [
            "Epoch 1/100\n",
            "\u001b[1m454/454\u001b[0m \u001b[32m━━━━━━━━━━━━━━━━━━━━\u001b[0m\u001b[37m\u001b[0m \u001b[1m2s\u001b[0m 3ms/step - accuracy: 0.8576 - loss: 0.2936 - val_accuracy: 0.9504 - val_loss: 0.1316\n",
            "Epoch 2/100\n",
            "\u001b[1m454/454\u001b[0m \u001b[32m━━━━━━━━━━━━━━━━━━━━\u001b[0m\u001b[37m\u001b[0m \u001b[1m1s\u001b[0m 2ms/step - accuracy: 0.9446 - loss: 0.1210 - val_accuracy: 0.9474 - val_loss: 0.1236\n",
            "Epoch 3/100\n",
            "\u001b[1m454/454\u001b[0m \u001b[32m━━━━━━━━━━━━━━━━━━━━\u001b[0m\u001b[37m\u001b[0m \u001b[1m1s\u001b[0m 2ms/step - accuracy: 0.9454 - loss: 0.1060 - val_accuracy: 0.9515 - val_loss: 0.1100\n",
            "Epoch 4/100\n",
            "\u001b[1m454/454\u001b[0m \u001b[32m━━━━━━━━━━━━━━━━━━━━\u001b[0m\u001b[37m\u001b[0m \u001b[1m1s\u001b[0m 2ms/step - accuracy: 0.9470 - loss: 0.1024 - val_accuracy: 0.9501 - val_loss: 0.1148\n",
            "Epoch 5/100\n",
            "\u001b[1m454/454\u001b[0m \u001b[32m━━━━━━━━━━━━━━━━━━━━\u001b[0m\u001b[37m\u001b[0m \u001b[1m2s\u001b[0m 3ms/step - accuracy: 0.9476 - loss: 0.0986 - val_accuracy: 0.9521 - val_loss: 0.1097\n",
            "Epoch 6/100\n",
            "\u001b[1m454/454\u001b[0m \u001b[32m━━━━━━━━━━━━━━━━━━━━\u001b[0m\u001b[37m\u001b[0m \u001b[1m3s\u001b[0m 4ms/step - accuracy: 0.9502 - loss: 0.0931 - val_accuracy: 0.9551 - val_loss: 0.1015\n",
            "Epoch 7/100\n",
            "\u001b[1m454/454\u001b[0m \u001b[32m━━━━━━━━━━━━━━━━━━━━\u001b[0m\u001b[37m\u001b[0m \u001b[1m2s\u001b[0m 2ms/step - accuracy: 0.9512 - loss: 0.0901 - val_accuracy: 0.9551 - val_loss: 0.0999\n",
            "Epoch 8/100\n",
            "\u001b[1m454/454\u001b[0m \u001b[32m━━━━━━━━━━━━━━━━━━━━\u001b[0m\u001b[37m\u001b[0m \u001b[1m1s\u001b[0m 2ms/step - accuracy: 0.9528 - loss: 0.0885 - val_accuracy: 0.9556 - val_loss: 0.1003\n",
            "Epoch 9/100\n",
            "\u001b[1m454/454\u001b[0m \u001b[32m━━━━━━━━━━━━━━━━━━━━\u001b[0m\u001b[37m\u001b[0m \u001b[1m1s\u001b[0m 2ms/step - accuracy: 0.9552 - loss: 0.0859 - val_accuracy: 0.9554 - val_loss: 0.1025\n",
            "Epoch 10/100\n",
            "\u001b[1m454/454\u001b[0m \u001b[32m━━━━━━━━━━━━━━━━━━━━\u001b[0m\u001b[37m\u001b[0m \u001b[1m1s\u001b[0m 2ms/step - accuracy: 0.9551 - loss: 0.0826 - val_accuracy: 0.9587 - val_loss: 0.0993\n",
            "Epoch 11/100\n",
            "\u001b[1m454/454\u001b[0m \u001b[32m━━━━━━━━━━━━━━━━━━━━\u001b[0m\u001b[37m\u001b[0m \u001b[1m1s\u001b[0m 2ms/step - accuracy: 0.9576 - loss: 0.0802 - val_accuracy: 0.9562 - val_loss: 0.0986\n",
            "Epoch 12/100\n",
            "\u001b[1m454/454\u001b[0m \u001b[32m━━━━━━━━━━━━━━━━━━━━\u001b[0m\u001b[37m\u001b[0m \u001b[1m1s\u001b[0m 2ms/step - accuracy: 0.9586 - loss: 0.0770 - val_accuracy: 0.9545 - val_loss: 0.1093\n",
            "Epoch 13/100\n",
            "\u001b[1m454/454\u001b[0m \u001b[32m━━━━━━━━━━━━━━━━━━━━\u001b[0m\u001b[37m\u001b[0m \u001b[1m1s\u001b[0m 2ms/step - accuracy: 0.9580 - loss: 0.0727 - val_accuracy: 0.9598 - val_loss: 0.0953\n",
            "Epoch 14/100\n",
            "\u001b[1m454/454\u001b[0m \u001b[32m━━━━━━━━━━━━━━━━━━━━\u001b[0m\u001b[37m\u001b[0m \u001b[1m1s\u001b[0m 2ms/step - accuracy: 0.9595 - loss: 0.0749 - val_accuracy: 0.9584 - val_loss: 0.0952\n",
            "Epoch 15/100\n",
            "\u001b[1m454/454\u001b[0m \u001b[32m━━━━━━━━━━━━━━━━━━━━\u001b[0m\u001b[37m\u001b[0m \u001b[1m2s\u001b[0m 3ms/step - accuracy: 0.9599 - loss: 0.0755 - val_accuracy: 0.9595 - val_loss: 0.0956\n",
            "Epoch 16/100\n",
            "\u001b[1m454/454\u001b[0m \u001b[32m━━━━━━━━━━━━━━━━━━━━\u001b[0m\u001b[37m\u001b[0m \u001b[1m3s\u001b[0m 4ms/step - accuracy: 0.9617 - loss: 0.0708 - val_accuracy: 0.9584 - val_loss: 0.1059\n",
            "Epoch 17/100\n",
            "\u001b[1m454/454\u001b[0m \u001b[32m━━━━━━━━━━━━━━━━━━━━\u001b[0m\u001b[37m\u001b[0m \u001b[1m1s\u001b[0m 2ms/step - accuracy: 0.9613 - loss: 0.0720 - val_accuracy: 0.9601 - val_loss: 0.0951\n",
            "Epoch 18/100\n",
            "\u001b[1m454/454\u001b[0m \u001b[32m━━━━━━━━━━━━━━━━━━━━\u001b[0m\u001b[37m\u001b[0m \u001b[1m1s\u001b[0m 2ms/step - accuracy: 0.9609 - loss: 0.0715 - val_accuracy: 0.9567 - val_loss: 0.1010\n",
            "Epoch 19/100\n",
            "\u001b[1m454/454\u001b[0m \u001b[32m━━━━━━━━━━━━━━━━━━━━\u001b[0m\u001b[37m\u001b[0m \u001b[1m1s\u001b[0m 2ms/step - accuracy: 0.9635 - loss: 0.0664 - val_accuracy: 0.9612 - val_loss: 0.0962\n",
            "Epoch 20/100\n",
            "\u001b[1m454/454\u001b[0m \u001b[32m━━━━━━━━━━━━━━━━━━━━\u001b[0m\u001b[37m\u001b[0m \u001b[1m1s\u001b[0m 2ms/step - accuracy: 0.9628 - loss: 0.0687 - val_accuracy: 0.9595 - val_loss: 0.0934\n",
            "Epoch 21/100\n",
            "\u001b[1m454/454\u001b[0m \u001b[32m━━━━━━━━━━━━━━━━━━━━\u001b[0m\u001b[37m\u001b[0m \u001b[1m1s\u001b[0m 2ms/step - accuracy: 0.9628 - loss: 0.0672 - val_accuracy: 0.9623 - val_loss: 0.0911\n",
            "Epoch 22/100\n",
            "\u001b[1m454/454\u001b[0m \u001b[32m━━━━━━━━━━━━━━━━━━━━\u001b[0m\u001b[37m\u001b[0m \u001b[1m1s\u001b[0m 2ms/step - accuracy: 0.9640 - loss: 0.0662 - val_accuracy: 0.9614 - val_loss: 0.0928\n",
            "Epoch 23/100\n",
            "\u001b[1m454/454\u001b[0m \u001b[32m━━━━━━━━━━━━━━━━━━━━\u001b[0m\u001b[37m\u001b[0m \u001b[1m1s\u001b[0m 2ms/step - accuracy: 0.9668 - loss: 0.0625 - val_accuracy: 0.9642 - val_loss: 0.0872\n",
            "Epoch 24/100\n",
            "\u001b[1m454/454\u001b[0m \u001b[32m━━━━━━━━━━━━━━━━━━━━\u001b[0m\u001b[37m\u001b[0m \u001b[1m1s\u001b[0m 2ms/step - accuracy: 0.9637 - loss: 0.0681 - val_accuracy: 0.9592 - val_loss: 0.0958\n",
            "Epoch 25/100\n",
            "\u001b[1m454/454\u001b[0m \u001b[32m━━━━━━━━━━━━━━━━━━━━\u001b[0m\u001b[37m\u001b[0m \u001b[1m2s\u001b[0m 3ms/step - accuracy: 0.9671 - loss: 0.0598 - val_accuracy: 0.9598 - val_loss: 0.0937\n",
            "Epoch 26/100\n",
            "\u001b[1m454/454\u001b[0m \u001b[32m━━━━━━━━━━━━━━━━━━━━\u001b[0m\u001b[37m\u001b[0m \u001b[1m2s\u001b[0m 3ms/step - accuracy: 0.9637 - loss: 0.0719 - val_accuracy: 0.9631 - val_loss: 0.0980\n",
            "Epoch 27/100\n",
            "\u001b[1m454/454\u001b[0m \u001b[32m━━━━━━━━━━━━━━━━━━━━\u001b[0m\u001b[37m\u001b[0m \u001b[1m2s\u001b[0m 2ms/step - accuracy: 0.9689 - loss: 0.0579 - val_accuracy: 0.9653 - val_loss: 0.0860\n",
            "Epoch 28/100\n",
            "\u001b[1m454/454\u001b[0m \u001b[32m━━━━━━━━━━━━━━━━━━━━\u001b[0m\u001b[37m\u001b[0m \u001b[1m1s\u001b[0m 2ms/step - accuracy: 0.9662 - loss: 0.0631 - val_accuracy: 0.9658 - val_loss: 0.0856\n",
            "Epoch 29/100\n",
            "\u001b[1m454/454\u001b[0m \u001b[32m━━━━━━━━━━━━━━━━━━━━\u001b[0m\u001b[37m\u001b[0m \u001b[1m1s\u001b[0m 2ms/step - accuracy: 0.9668 - loss: 0.0634 - val_accuracy: 0.9625 - val_loss: 0.0992\n",
            "Epoch 30/100\n",
            "\u001b[1m454/454\u001b[0m \u001b[32m━━━━━━━━━━━━━━━━━━━━\u001b[0m\u001b[37m\u001b[0m \u001b[1m1s\u001b[0m 2ms/step - accuracy: 0.9680 - loss: 0.0602 - val_accuracy: 0.9631 - val_loss: 0.0953\n",
            "Epoch 31/100\n",
            "\u001b[1m454/454\u001b[0m \u001b[32m━━━━━━━━━━━━━━━━━━━━\u001b[0m\u001b[37m\u001b[0m \u001b[1m1s\u001b[0m 2ms/step - accuracy: 0.9706 - loss: 0.0566 - val_accuracy: 0.9647 - val_loss: 0.0944\n",
            "Epoch 32/100\n",
            "\u001b[1m454/454\u001b[0m \u001b[32m━━━━━━━━━━━━━━━━━━━━\u001b[0m\u001b[37m\u001b[0m \u001b[1m1s\u001b[0m 2ms/step - accuracy: 0.9687 - loss: 0.0597 - val_accuracy: 0.9645 - val_loss: 0.0903\n",
            "Epoch 33/100\n",
            "\u001b[1m454/454\u001b[0m \u001b[32m━━━━━━━━━━━━━━━━━━━━\u001b[0m\u001b[37m\u001b[0m \u001b[1m1s\u001b[0m 2ms/step - accuracy: 0.9655 - loss: 0.0665 - val_accuracy: 0.9639 - val_loss: 0.0915\n",
            "Epoch 34/100\n",
            "\u001b[1m454/454\u001b[0m \u001b[32m━━━━━━━━━━━━━━━━━━━━\u001b[0m\u001b[37m\u001b[0m \u001b[1m1s\u001b[0m 2ms/step - accuracy: 0.9693 - loss: 0.0580 - val_accuracy: 0.9634 - val_loss: 0.0942\n",
            "Epoch 35/100\n",
            "\u001b[1m454/454\u001b[0m \u001b[32m━━━━━━━━━━━━━━━━━━━━\u001b[0m\u001b[37m\u001b[0m \u001b[1m2s\u001b[0m 3ms/step - accuracy: 0.9691 - loss: 0.0570 - val_accuracy: 0.9631 - val_loss: 0.0925\n",
            "Epoch 36/100\n",
            "\u001b[1m454/454\u001b[0m \u001b[32m━━━━━━━━━━━━━━━━━━━━\u001b[0m\u001b[37m\u001b[0m \u001b[1m1s\u001b[0m 3ms/step - accuracy: 0.9708 - loss: 0.0565 - val_accuracy: 0.9669 - val_loss: 0.0992\n",
            "Epoch 37/100\n",
            "\u001b[1m454/454\u001b[0m \u001b[32m━━━━━━━━━━━━━━━━━━━━\u001b[0m\u001b[37m\u001b[0m \u001b[1m2s\u001b[0m 2ms/step - accuracy: 0.9728 - loss: 0.0514 - val_accuracy: 0.9683 - val_loss: 0.0929\n",
            "Epoch 38/100\n",
            "\u001b[1m454/454\u001b[0m \u001b[32m━━━━━━━━━━━━━━━━━━━━\u001b[0m\u001b[37m\u001b[0m \u001b[1m1s\u001b[0m 2ms/step - accuracy: 0.9746 - loss: 0.0510 - val_accuracy: 0.9628 - val_loss: 0.0993\n"
          ]
        }
      ]
    },
    {
      "cell_type": "code",
      "source": [
        "# Plotting Loss Curves for Optimised Neural Network with 'ContactHours' and 'AttendancePercentage'\n",
        "plt.figure(figsize=(8, 5))\n",
        "plt.plot(history_nn_optimised_with_features.history['loss'], label='Training Loss')\n",
        "plt.plot(history_nn_optimised_with_features.history['val_loss'], label='Validation Loss')\n",
        "plt.title('Loss Curves for Optimised Neural Network with ContactHours and AttendancePercentage')\n",
        "plt.xlabel('Epoch')\n",
        "plt.ylabel('Loss')\n",
        "plt.legend()\n",
        "plt.show()"
      ],
      "metadata": {
        "colab": {
          "base_uri": "https://localhost:8080/",
          "height": 487
        },
        "id": "ucUML9b--_m6",
        "outputId": "3aaa8e68-b437-4a7e-96bc-d844225caea4"
      },
      "execution_count": null,
      "outputs": [
        {
          "output_type": "display_data",
          "data": {
            "text/plain": [
              "<Figure size 800x500 with 1 Axes>"
            ],
            "image/png": "[encoded data removed]"
          },
          "metadata": {}
        }
      ]
    },
    {
      "cell_type": "code",
      "source": [
        "# Performance Metrics for Optimised Neural Network with 'ContactHours' and 'AttendancePercentage'\n",
        "y_pred_optimised_nn_with_features = (model_nn_optimised_with_features.predict(X_test) > 0.5).astype(int)\n",
        "print(\"Performance Metrics for Optimised Neural Network with ContactHours and AttendancePercentage:\")\n",
        "print(\"Accuracy:\", accuracy_score(y_test, y_pred_optimised_nn_with_features))\n",
        "print(\"Confusion Matrix:\\n\", confusion_matrix(y_test, y_pred_optimised_nn_with_features))\n",
        "print(\"Precision:\", precision_score(y_test, y_pred_optimised_nn_with_features))\n",
        "print(\"Recall:\", recall_score(y_test, y_pred_optimised_nn_with_features))\n",
        "print(\"AUC:\", roc_auc_score(y_test, y_pred_optimised_nn_with_features))"
      ],
      "metadata": {
        "colab": {
          "base_uri": "https://localhost:8080/"
        },
        "id": "oT9RJNSG_AN6",
        "outputId": "359b1690-f1ce-4db8-f614-5000d460b3bb"
      },
      "execution_count": null,
      "outputs": [
        {
          "output_type": "stream",
          "name": "stdout",
          "text": [
            "\u001b[1m142/142\u001b[0m \u001b[32m━━━━━━━━━━━━━━━━━━━━\u001b[0m\u001b[37m\u001b[0m \u001b[1m0s\u001b[0m 1ms/step\n",
            "Performance Metrics for Optimised Neural Network with ContactHours and AttendancePercentage:\n",
            "Accuracy: 0.9643014543851918\n",
            "Confusion Matrix:\n",
            " [[ 262   13]\n",
            " [ 149 4114]]\n",
            "Precision: 0.996850012115338\n",
            "Recall: 0.9650480882007976\n",
            "AUC: 0.9588876804640353\n"
          ]
        }
      ]
    },
    {
      "cell_type": "markdown",
      "source": [
        "- **Accuracy (~0.9643)** surpasses previous baselines.\n",
        "- **Recall (~0.9650)** is excellent, capturing almost all dropouts.\n",
        "- **Precision (~0.9969)** remains strong, indicating few false positives.\n",
        "- **AUC (~0.9589)** is slightly below XGBoost’s 0.9624, but still excellent overall.\n",
        "\n",
        "These results confirm that, for this dataset, the tuned neural network with attendance features can outperform or match XGBoost in key metrics, especially recall.\n"
      ],
      "metadata": {
        "id": "_FsEy-CwEQB_"
      }
    },
    {
      "cell_type": "markdown",
      "source": [
        "## 6. Final Model Comparison"
      ],
      "metadata": {
        "id": "yzi-dcd_IHPG"
      }
    },
    {
      "cell_type": "markdown",
      "source": [
        "\n",
        "\n",
        "We compare the final optimised models (XGBoost and Neural Network) based on key performance metrics:\n",
        "\n",
        "| Model                  | Accuracy  | Precision | Recall | AUC   |\n",
        "|------------------------|----------|-----------|--------|--------|\n",
        "| **XGBoost (No Attendance)**  | ~0.9401   | ~0.9965    | ~0.9395 | ~0.9443 |\n",
        "| **Neural Network (No Attendance)**  | ~0.9295   | ~0.9967    | ~0.9280 | ~0.9404 |\n",
        "| **XGBoost (With Attendance)**  | **~0.9581**   | **~0.9978**    | **~0.9575** | **~0.9624** |\n",
        "| **Neural Network (With Attendance)**  | **~0.9643**   | **~0.9969**    | **~0.9650** | **~0.9589** |\n",
        "\n",
        "### **Key Observations**\n",
        "- **XGBoost (With Attendance)** achieved **the highest precision (~0.9978)** and **AUC (~0.9624)**, making it ideal for minimising false positives.\n",
        "- **Neural Network (With Attendance)** had **the best recall (~0.9650)**, meaning it was more effective at identifying actual dropouts.\n",
        "- **Attendance features significantly improved both models**, confirming their predictive power.\n",
        "\n",
        "**Final Recommendation:**\n",
        "- If the goal is **to avoid false alarms** (only flagging students with high dropout risk), **XGBoost** is preferred.  \n",
        "- If the goal is **to catch every possible at-risk student** (even at the cost of some false positives), **Neural Network** is the better choice.\n"
      ],
      "metadata": {
        "id": "l7P0Jt-wJpHR"
      }
    },
    {
      "cell_type": "markdown",
      "source": [
        "## 7. Conclusion"
      ],
      "metadata": {
        "id": "Aqpjx8QxJ7NR"
      }
    },
    {
      "cell_type": "markdown",
      "source": [
        "**Key Takeaways:**\n",
        "- **ContactHours was the strongest predictor**, reinforcing that direct engagement correlates most strongly with dropout risk.\n",
        "- **UnauthorisedAbsenceCount and CreditWeightedAverage ranked higher than AttendancePercentage**, suggesting that unapproved absences and academic struggles are crucial factors in predicting dropout.\n",
        "- **XGBoost performed best in precision (\\~0.9978, fewer false positives), while the Neural Network achieved the highest recall (~0.9650, capturing more actual dropouts).**\n",
        "- **Hyperparameter tuning alone was not enough—feature selection had the biggest impact on model performance.**\n",
        "\n",
        "**Next Steps:**\n",
        "- **Further feature engineering**: Explore time-series trends in attendance and engagement signals.\n",
        "- **Deployment considerations**: Implement the best-performing model in a real-time student monitoring system.\n",
        "- **Validation & generalisation**: Test the model on different cohorts to ensure robustness across institutions.\n",
        "\n",
        "These findings highlight the importance of **tracking both attendance data and academic performance** to inform targeted student retention strategies.\n"
      ],
      "metadata": {
        "id": "bMAzVN_EKChU"
      }
    }
  ]
}